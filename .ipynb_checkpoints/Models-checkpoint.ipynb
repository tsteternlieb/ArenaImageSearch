{
 "cells": [
  {
   "cell_type": "code",
   "execution_count": 2,
   "metadata": {},
   "outputs": [],
   "source": [
    "'''\n",
    "Models:\n",
    "\n",
    "U Net for pix2pix type thing\n",
    "Embedding model from scratch and with pretrained\n",
    "Maybe another for multiple input?\n",
    "\n",
    "ChannelEmbed?\n",
    "'''"
   ]
  },
  {
   "cell_type": "code",
   "execution_count": 6,
   "metadata": {},
   "outputs": [
    {
     "ename": "SyntaxError",
     "evalue": "invalid syntax (3750180986.py, line 1)",
     "output_type": "error",
     "traceback": [
      "\u001b[0;36m  File \u001b[0;32m\"/var/folders/0l/7qs63yvs2hz99v3lks8zfwsr0000gn/T/ipykernel_2023/3750180986.py\"\u001b[0;36m, line \u001b[0;32m1\u001b[0m\n\u001b[0;31m    class Hel()\u001b[0m\n\u001b[0m               ^\u001b[0m\n\u001b[0;31mSyntaxError\u001b[0m\u001b[0;31m:\u001b[0m invalid syntax\n"
     ]
    }
   ],
   "source": [
    " "
   ]
  },
  {
   "cell_type": "code",
   "execution_count": 7,
   "metadata": {},
   "outputs": [],
   "source": [
    "import torch, pandas, numpy\n",
    "from torch import nn\n",
    "\n"
   ]
  },
  {
   "cell_type": "code",
   "execution_count": 9,
   "metadata": {},
   "outputs": [],
   "source": [
    "class Downsample(nn.Module):\n",
    "    def __init__(self,kernel_size,in_channels,out_channels,batch_norm = True, drop_out = None):\n",
    "        self.layers = nn.ModuleList([nn.Conv2d(in_channels,out_channels,kernel_size)])\n",
    "        if batch_norm:\n",
    "            self.layers.append(nn.BatchNorm2d(out_channels)\n",
    "        if drop_out:\n",
    "            self.layers.append(nn.Dropout2d(drop_out))\n",
    "            \n",
    "    def call(self,inputs):\n",
    "        x = inputs\n",
    "        for layer in self.layers:\n",
    "            x = layer(x)\n",
    "            \n",
    "        return x\n",
    "    "
   ]
  },
  {
   "cell_type": "code",
   "execution_count": 5,
   "metadata": {},
   "outputs": [],
   "source": [
    "class U_Disc(nn.Module):\n",
    "    '''U net discriminator'''\n",
    "    def __init__(self,kernel_size=4, num_downsamples = 3):\n",
    "        super(U_Disc, self).__init__()\n",
    "        self.input_conv = x \n",
    "        self.init_conv = nn.Conv2d(6,64,kernel_size)\n",
    "        \n",
    "        self.downsample_layers = nn.ModuleList([] for i in range )\n",
    "        \n",
    "    def call(self,inputs):\n",
    "        '''\n",
    "        takes as input a tuple (x,t) \n",
    "        where x is the input and t is the target\n",
    "        '''\n",
    "        input_im, target_im = inputs\n",
    "        concat = torch.concat([input_im,target_im], dim = 1)\n",
    "        \n",
    "        \n",
    "        \n",
    "        "
   ]
  },
  {
   "cell_type": "code",
   "execution_count": null,
   "metadata": {},
   "outputs": [],
   "source": []
  }
 ],
 "metadata": {
  "kernelspec": {
   "display_name": "Python 3 (ipykernel)",
   "language": "python",
   "name": "python3"
  },
  "language_info": {
   "codemirror_mode": {
    "name": "ipython",
    "version": 3
   },
   "file_extension": ".py",
   "mimetype": "text/x-python",
   "name": "python",
   "nbconvert_exporter": "python",
   "pygments_lexer": "ipython3",
   "version": "3.8.12"
  }
 },
 "nbformat": 4,
 "nbformat_minor": 4
}
