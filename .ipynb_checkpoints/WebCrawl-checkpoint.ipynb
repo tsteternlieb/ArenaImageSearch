{
 "cells": [
  {
   "cell_type": "code",
   "execution_count": 1,
   "id": "ebf019f6",
   "metadata": {},
   "outputs": [
    {
     "data": {
      "text/plain": [
       "'\\nUseful GETs:\\n\\nhttp://api.are.na/v2/channels/arena-influences/channels\\n\\n\\n\\n'"
      ]
     },
     "execution_count": 1,
     "metadata": {},
     "output_type": "execute_result"
    }
   ],
   "source": [
    "'''\n",
    "Notebook for Are.na crawling\n",
    "'''\n",
    "\n",
    "'''\n",
    "Useful GETs:\n",
    "\n",
    "http://api.are.na/v2/channels/arena-influences/channels\n",
    "\n",
    "\n",
    "\n",
    "'''"
   ]
  },
  {
   "cell_type": "code",
   "execution_count": 2,
   "id": "7e3d9fe0",
   "metadata": {},
   "outputs": [],
   "source": [
    "### IMPORTS ###\n",
    "if __name__ == '__main__':\n",
    "    import requests\n",
    "    import math\n",
    "    import networkx as nx\n",
    "    from threading import Thread\n",
    "    from queue import Queue"
   ]
  },
  {
   "cell_type": "code",
   "execution_count": 3,
   "id": "64122eea",
   "metadata": {},
   "outputs": [],
   "source": [
    "def multi_generateChannelNetwork(startSlug, num_threads):\n",
    "    def get_connected_channels_from_queue(queue,r):\n",
    "        while True:\n",
    "            slug = queue.get()\n",
    "            slugs = getConnectedChannels(slug)\n",
    "            l.append(slugs)\n",
    "            for slug in slugs:\n",
    "                r.put(slug)\n",
    "                queue.put(slug)\n",
    "            queue.task_done()\n",
    "            \n",
    "            \n",
    "    res = Queue()\n",
    "    q = Queue()\n",
    "    q.put(startSlug)\n",
    "    l = []\n",
    "    for i in range(num_threads):\n",
    "        print(\"hello\")\n",
    "        worker = Thread(target=get_connected_channels_from_queue, args=(q,res))\n",
    "        worker.setDaemon(True)\n",
    "        worker.start()\n",
    "        q.join()\n",
    "        \n",
    "    return l\n",
    "\n",
    "\n"
   ]
  },
  {
   "cell_type": "code",
   "execution_count": null,
   "id": "9274e14f",
   "metadata": {},
   "outputs": [],
   "source": [
    "getConnectedChannels('nynets-_sal8iqlt8y')"
   ]
  },
  {
   "cell_type": "code",
   "execution_count": null,
   "id": "c96ddc1d",
   "metadata": {},
   "outputs": [],
   "source": [
    "###this works\n",
    "x = requests.get('https://api.are.na/v2/channels/nynets-_sal8iqlt8y/thumb')\n",
    "x"
   ]
  },
  {
   "cell_type": "code",
   "execution_count": null,
   "id": "389a7374",
   "metadata": {
    "scrolled": true
   },
   "outputs": [],
   "source": [
    "x.json()['contents'][5]"
   ]
  },
  {
   "cell_type": "code",
   "execution_count": null,
   "id": "fbcff9fb",
   "metadata": {},
   "outputs": [],
   "source": [
    "collab_r = requests.get('http://api.are.na/v2/channels/nynets-_sal8iqlt8y/connections')\n",
    "collab_r"
   ]
  },
  {
   "cell_type": "code",
   "execution_count": null,
   "id": "8a9b0034",
   "metadata": {},
   "outputs": [],
   "source": [
    "(collab_r.json()['channels'])[0]['slug']"
   ]
  },
  {
   "cell_type": "code",
   "execution_count": null,
   "id": "08c70337",
   "metadata": {},
   "outputs": [],
   "source": [
    "test_linkage = requests.get('https://api.are.na/v2/channels/transfixions')\n",
    "test_linkage"
   ]
  },
  {
   "cell_type": "code",
   "execution_count": null,
   "id": "9ddaaf21",
   "metadata": {},
   "outputs": [],
   "source": [
    "test_linkage.json()"
   ]
  },
  {
   "cell_type": "code",
   "execution_count": null,
   "id": "5d590484",
   "metadata": {},
   "outputs": [],
   "source": [
    "multi_generateChannelNetwork('nynets-_sal8iqlt8y',100)"
   ]
  },
  {
   "cell_type": "code",
   "execution_count": 5,
   "id": "6a8b5fd7",
   "metadata": {},
   "outputs": [
    {
     "data": {
      "text/plain": [
       "['random_2', 'radical-technologies-and-art']"
      ]
     },
     "execution_count": 5,
     "metadata": {},
     "output_type": "execute_result"
    }
   ],
   "source": [
    "def getConnectedChannels(slug):\n",
    "    #getConnectedChannels(slug) = [c1,c2,...]\n",
    "    #slug: channel slug str\n",
    "    #[c1,c2,...] where c1,c2,... is linked to the current channel\n",
    "    \n",
    "    GET = f'http://api.are.na/v2/channels/{slug}/connections'\n",
    "    try:\n",
    "        collab_json_list = requests.get(GET).json()['channels']\n",
    "    except:\n",
    "        return []\n",
    "    slugs = [json['slug'] for json in collab_json_list]\n",
    "    \n",
    "    return slugs\n",
    "\n",
    "getConnectedChannels('nynets-_sal8iqlt8y')"
   ]
  },
  {
   "cell_type": "code",
   "execution_count": 6,
   "id": "4d249a29",
   "metadata": {},
   "outputs": [],
   "source": [
    "def generateChannelNetwork(startSlug,depth):\n",
    "    '''\n",
    "    bfs for network generation \n",
    "    generateChannelNetwork(startSlug,depth) = network : networkx \n",
    "    where nodes represent channels and edges exist if one channels appear in another \n",
    "    '''\n",
    "    q = Queue()\n",
    "    seen = set([startSlug])\n",
    "    q.put(startSlug)\n",
    "    G = nx.Graph()\n",
    "    \n",
    "    while depth > 0:\n",
    "        for i in range(q.qsize()):\n",
    "            curr_slug = q.get_nowait()\n",
    "            print(curr_slug)\n",
    "            slugs = getConnectedChannels(curr_slug)\n",
    "            for slug in slugs:\n",
    "                if slug not in seen:\n",
    "                    seen.add(slug)\n",
    "                    q.put(slug)\n",
    "                        \n",
    "                    G.add_edge(curr_slug,slug)\n",
    "                    \n",
    "                \n",
    "        depth -= 1\n",
    "        \n",
    "    return G"
   ]
  },
  {
   "cell_type": "code",
   "execution_count": 11,
   "id": "ca3ec1e4",
   "metadata": {},
   "outputs": [],
   "source": [
    "def multi_generateChannelNetwork(startSlug, num_threads):\n",
    "    def get_connected_channels_from_queue(queue,r):\n",
    "        while True:\n",
    "            slug = queue.get()\n",
    "            slugs = getConnectedChannels(slug)\n",
    "            l.append(slugs)\n",
    "            for slug in slugs:\n",
    "                r.put(slug)\n",
    "                queue.put(slug)\n",
    "            queue.task_done()\n",
    "            \n",
    "            \n",
    "    res = Queue()\n",
    "    q = Queue()\n",
    "    q.put(startSlug)\n",
    "    l = []\n",
    "    \n",
    "    Thread(target=get_connected_channels_from_queue, args=(q,res), daemon = True).start()\n",
    "\n",
    "    q.join()\n",
    "        \n",
    "    return l\n",
    "\n",
    "\n",
    "\n"
   ]
  },
  {
   "cell_type": "code",
   "execution_count": 13,
   "id": "43d6e423",
   "metadata": {
    "scrolled": true
   },
   "outputs": [],
   "source": [
    "# G = generateChannelNetwork('nynets-_sal8iqlt8y',4)"
   ]
  },
  {
   "cell_type": "code",
   "execution_count": 12,
   "id": "2a207abb",
   "metadata": {},
   "outputs": [
    {
     "name": "stdout",
     "output_type": "stream",
     "text": [
      "hello\n"
     ]
    },
    {
     "ename": "KeyboardInterrupt",
     "evalue": "",
     "output_type": "error",
     "traceback": [
      "\u001b[0;31m---------------------------------------------------------------------------\u001b[0m",
      "\u001b[0;31mKeyboardInterrupt\u001b[0m                         Traceback (most recent call last)",
      "\u001b[0;32m<ipython-input-12-deffed0191c8>\u001b[0m in \u001b[0;36m<module>\u001b[0;34m\u001b[0m\n\u001b[0;32m----> 1\u001b[0;31m \u001b[0mmulti_generateChannelNetwork\u001b[0m\u001b[0;34m(\u001b[0m\u001b[0;34m'nynets-_sal8iqlt8y'\u001b[0m\u001b[0;34m,\u001b[0m\u001b[0;36m1\u001b[0m\u001b[0;34m)\u001b[0m\u001b[0;34m\u001b[0m\u001b[0;34m\u001b[0m\u001b[0m\n\u001b[0m",
      "\u001b[0;32m<ipython-input-11-149398f29222>\u001b[0m in \u001b[0;36mmulti_generateChannelNetwork\u001b[0;34m(startSlug, num_threads)\u001b[0m\n\u001b[1;32m     20\u001b[0m         \u001b[0mworker\u001b[0m\u001b[0;34m.\u001b[0m\u001b[0msetDaemon\u001b[0m\u001b[0;34m(\u001b[0m\u001b[0;32mTrue\u001b[0m\u001b[0;34m)\u001b[0m\u001b[0;34m\u001b[0m\u001b[0;34m\u001b[0m\u001b[0m\n\u001b[1;32m     21\u001b[0m         \u001b[0mworker\u001b[0m\u001b[0;34m.\u001b[0m\u001b[0mstart\u001b[0m\u001b[0;34m(\u001b[0m\u001b[0;34m)\u001b[0m\u001b[0;34m\u001b[0m\u001b[0;34m\u001b[0m\u001b[0m\n\u001b[0;32m---> 22\u001b[0;31m         \u001b[0mq\u001b[0m\u001b[0;34m.\u001b[0m\u001b[0mjoin\u001b[0m\u001b[0;34m(\u001b[0m\u001b[0;34m)\u001b[0m\u001b[0;34m\u001b[0m\u001b[0;34m\u001b[0m\u001b[0m\n\u001b[0m\u001b[1;32m     23\u001b[0m \u001b[0;34m\u001b[0m\u001b[0m\n\u001b[1;32m     24\u001b[0m     \u001b[0;32mreturn\u001b[0m \u001b[0ml\u001b[0m\u001b[0;34m\u001b[0m\u001b[0;34m\u001b[0m\u001b[0m\n",
      "\u001b[0;32m/opt/anaconda3/envs/lab1/lib/python3.7/queue.py\u001b[0m in \u001b[0;36mjoin\u001b[0;34m(self)\u001b[0m\n\u001b[1;32m     87\u001b[0m         \u001b[0;32mwith\u001b[0m \u001b[0mself\u001b[0m\u001b[0;34m.\u001b[0m\u001b[0mall_tasks_done\u001b[0m\u001b[0;34m:\u001b[0m\u001b[0;34m\u001b[0m\u001b[0;34m\u001b[0m\u001b[0m\n\u001b[1;32m     88\u001b[0m             \u001b[0;32mwhile\u001b[0m \u001b[0mself\u001b[0m\u001b[0;34m.\u001b[0m\u001b[0munfinished_tasks\u001b[0m\u001b[0;34m:\u001b[0m\u001b[0;34m\u001b[0m\u001b[0;34m\u001b[0m\u001b[0m\n\u001b[0;32m---> 89\u001b[0;31m                 \u001b[0mself\u001b[0m\u001b[0;34m.\u001b[0m\u001b[0mall_tasks_done\u001b[0m\u001b[0;34m.\u001b[0m\u001b[0mwait\u001b[0m\u001b[0;34m(\u001b[0m\u001b[0;34m)\u001b[0m\u001b[0;34m\u001b[0m\u001b[0;34m\u001b[0m\u001b[0m\n\u001b[0m\u001b[1;32m     90\u001b[0m \u001b[0;34m\u001b[0m\u001b[0m\n\u001b[1;32m     91\u001b[0m     \u001b[0;32mdef\u001b[0m \u001b[0mqsize\u001b[0m\u001b[0;34m(\u001b[0m\u001b[0mself\u001b[0m\u001b[0;34m)\u001b[0m\u001b[0;34m:\u001b[0m\u001b[0;34m\u001b[0m\u001b[0;34m\u001b[0m\u001b[0m\n",
      "\u001b[0;32m/opt/anaconda3/envs/lab1/lib/python3.7/threading.py\u001b[0m in \u001b[0;36mwait\u001b[0;34m(self, timeout)\u001b[0m\n\u001b[1;32m    294\u001b[0m         \u001b[0;32mtry\u001b[0m\u001b[0;34m:\u001b[0m    \u001b[0;31m# restore state no matter what (e.g., KeyboardInterrupt)\u001b[0m\u001b[0;34m\u001b[0m\u001b[0;34m\u001b[0m\u001b[0m\n\u001b[1;32m    295\u001b[0m             \u001b[0;32mif\u001b[0m \u001b[0mtimeout\u001b[0m \u001b[0;32mis\u001b[0m \u001b[0;32mNone\u001b[0m\u001b[0;34m:\u001b[0m\u001b[0;34m\u001b[0m\u001b[0;34m\u001b[0m\u001b[0m\n\u001b[0;32m--> 296\u001b[0;31m                 \u001b[0mwaiter\u001b[0m\u001b[0;34m.\u001b[0m\u001b[0macquire\u001b[0m\u001b[0;34m(\u001b[0m\u001b[0;34m)\u001b[0m\u001b[0;34m\u001b[0m\u001b[0;34m\u001b[0m\u001b[0m\n\u001b[0m\u001b[1;32m    297\u001b[0m                 \u001b[0mgotit\u001b[0m \u001b[0;34m=\u001b[0m \u001b[0;32mTrue\u001b[0m\u001b[0;34m\u001b[0m\u001b[0;34m\u001b[0m\u001b[0m\n\u001b[1;32m    298\u001b[0m             \u001b[0;32melse\u001b[0m\u001b[0;34m:\u001b[0m\u001b[0;34m\u001b[0m\u001b[0;34m\u001b[0m\u001b[0m\n",
      "\u001b[0;31mKeyboardInterrupt\u001b[0m: "
     ]
    }
   ],
   "source": [
    "multi_generateChannelNetwork('nynets-_sal8iqlt8y',1)"
   ]
  },
  {
   "cell_type": "code",
   "execution_count": null,
   "id": "9742598a",
   "metadata": {},
   "outputs": [],
   "source": []
  },
  {
   "cell_type": "code",
   "execution_count": null,
   "id": "726d5827",
   "metadata": {},
   "outputs": [],
   "source": [
    "nx.drawing.nx_pylab.draw(G,l)"
   ]
  },
  {
   "cell_type": "code",
   "execution_count": null,
   "id": "3124c61c",
   "metadata": {},
   "outputs": [],
   "source": [
    "from matplotlib import pylab\n",
    "import matplotlib.pyplot as plt\n",
    "import networkx as nx\n",
    "\n",
    "def save_graph(graph,file_name):\n",
    "#initialze Figure\n",
    "    plt.figure(num=None, figsize=(20, 20), dpi=80)\n",
    "    plt.axis('off')\n",
    "    fig = plt.figure(1)\n",
    "    pos = nx.spring_layout(graph)\n",
    "    nx.draw_networkx_nodes(graph,pos)\n",
    "    nx.draw_networkx_edges(graph,pos)\n",
    "    nx.draw_networkx_labels(graph,pos)\n",
    "\n",
    "    cut = 1.00\n",
    "    xmax = cut * max(xx for xx, yy in pos.values())\n",
    "    ymax = cut * max(yy for xx, yy in pos.values())\n",
    "    plt.xlim(-2*xmax, 2*xmax)\n",
    "    plt.ylim(-2*ymax, 2*ymax)\n",
    "\n",
    "    plt.savefig(file_name,bbox_inches=\"tight\")\n",
    "    pylab.close()\n",
    "    del fig\n",
    "\n",
    "    "
   ]
  },
  {
   "cell_type": "code",
   "execution_count": null,
   "id": "2ce2d4c5",
   "metadata": {},
   "outputs": [],
   "source": [
    "multi_generateChannelNetwork('nynets-_sal8iqlt8y',1)"
   ]
  },
  {
   "cell_type": "code",
   "execution_count": null,
   "id": "a46e4865",
   "metadata": {},
   "outputs": [],
   "source": [
    "nx.algorithms.cycles.find_cycle(G)"
   ]
  },
  {
   "cell_type": "code",
   "execution_count": null,
   "id": "edfc0ef7",
   "metadata": {},
   "outputs": [],
   "source": [
    "import os\n",
    "os.cwd()"
   ]
  },
  {
   "cell_type": "code",
   "execution_count": null,
   "id": "d4f08634",
   "metadata": {},
   "outputs": [],
   "source": [
    "G = nx.Graph()\n",
    "G.add_node(\"a\")\n",
    "G.add_node(\"b\")"
   ]
  },
  {
   "cell_type": "code",
   "execution_count": null,
   "id": "67dfa42c",
   "metadata": {},
   "outputs": [],
   "source": [
    "G.add_edges_from(([\"a\"],[\"b\"]))"
   ]
  },
  {
   "cell_type": "code",
   "execution_count": null,
   "id": "86733575",
   "metadata": {},
   "outputs": [],
   "source": [
    "nx.draw_networkx(G)"
   ]
  },
  {
   "cell_type": "code",
   "execution_count": null,
   "id": "09c065ff",
   "metadata": {},
   "outputs": [],
   "source": [
    "nx.dr"
   ]
  }
 ],
 "metadata": {
  "kernelspec": {
   "display_name": "Python 3",
   "language": "python",
   "name": "python3"
  },
  "language_info": {
   "codemirror_mode": {
    "name": "ipython",
    "version": 3
   },
   "file_extension": ".py",
   "mimetype": "text/x-python",
   "name": "python",
   "nbconvert_exporter": "python",
   "pygments_lexer": "ipython3",
   "version": "3.7.10"
  }
 },
 "nbformat": 4,
 "nbformat_minor": 5
}
