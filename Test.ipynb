{
 "cells": [
  {
   "cell_type": "code",
   "execution_count": 4,
   "metadata": {},
   "outputs": [
    {
     "name": "stdout",
     "output_type": "stream",
     "text": [
      "Requirement already satisfied: shap in /opt/anaconda3/envs/arena_req/lib/python3.8/site-packages (0.40.0)\n",
      "Requirement already satisfied: packaging>20.9 in /opt/anaconda3/envs/arena_req/lib/python3.8/site-packages (from shap) (21.3)\n",
      "Requirement already satisfied: numpy in /opt/anaconda3/envs/arena_req/lib/python3.8/site-packages (from shap) (1.20.3)\n",
      "Requirement already satisfied: scipy in /opt/anaconda3/envs/arena_req/lib/python3.8/site-packages (from shap) (1.7.3)\n",
      "Requirement already satisfied: tqdm>4.25.0 in /opt/anaconda3/envs/arena_req/lib/python3.8/site-packages (from shap) (4.62.3)\n",
      "Requirement already satisfied: slicer==0.0.7 in /opt/anaconda3/envs/arena_req/lib/python3.8/site-packages (from shap) (0.0.7)\n",
      "Requirement already satisfied: pandas in /opt/anaconda3/envs/arena_req/lib/python3.8/site-packages (from shap) (1.3.5)\n",
      "Requirement already satisfied: cloudpickle in /opt/anaconda3/envs/arena_req/lib/python3.8/site-packages (from shap) (2.0.0)\n",
      "Requirement already satisfied: scikit-learn in /opt/anaconda3/envs/arena_req/lib/python3.8/site-packages (from shap) (1.0.2)\n",
      "Requirement already satisfied: numba in /opt/anaconda3/envs/arena_req/lib/python3.8/site-packages (from shap) (0.54.1)\n",
      "Requirement already satisfied: pyparsing!=3.0.5,>=2.0.2 in /opt/anaconda3/envs/arena_req/lib/python3.8/site-packages (from packaging>20.9->shap) (3.0.6)\n",
      "Requirement already satisfied: setuptools in /opt/anaconda3/envs/arena_req/lib/python3.8/site-packages (from numba->shap) (60.1.0)\n",
      "Requirement already satisfied: llvmlite<0.38,>=0.37.0rc1 in /opt/anaconda3/envs/arena_req/lib/python3.8/site-packages (from numba->shap) (0.37.0)\n",
      "Requirement already satisfied: pytz>=2017.3 in /opt/anaconda3/envs/arena_req/lib/python3.8/site-packages (from pandas->shap) (2021.3)\n",
      "Requirement already satisfied: python-dateutil>=2.7.3 in /opt/anaconda3/envs/arena_req/lib/python3.8/site-packages (from pandas->shap) (2.8.2)\n",
      "Requirement already satisfied: joblib>=0.11 in /opt/anaconda3/envs/arena_req/lib/python3.8/site-packages (from scikit-learn->shap) (1.1.0)\n",
      "Requirement already satisfied: threadpoolctl>=2.0.0 in /opt/anaconda3/envs/arena_req/lib/python3.8/site-packages (from scikit-learn->shap) (3.0.0)\n",
      "Requirement already satisfied: six>=1.5 in /opt/anaconda3/envs/arena_req/lib/python3.8/site-packages (from python-dateutil>=2.7.3->pandas->shap) (1.16.0)\n"
     ]
    }
   ],
   "source": [
    "!pip install shap\n"
   ]
  },
  {
   "cell_type": "code",
   "execution_count": 2,
   "metadata": {},
   "outputs": [
    {
     "ename": "ModuleNotFoundError",
     "evalue": "No module named 'shap'",
     "output_type": "error",
     "traceback": [
      "\u001b[0;31m---------------------------------------------------------------------------\u001b[0m",
      "\u001b[0;31mModuleNotFoundError\u001b[0m                       Traceback (most recent call last)",
      "\u001b[0;32m<ipython-input-2-f0ac647cd495>\u001b[0m in \u001b[0;36m<module>\u001b[0;34m\u001b[0m\n\u001b[0;32m----> 1\u001b[0;31m \u001b[0;32mimport\u001b[0m \u001b[0mshap\u001b[0m\u001b[0;34m\u001b[0m\u001b[0;34m\u001b[0m\u001b[0m\n\u001b[0m",
      "\u001b[0;31mModuleNotFoundError\u001b[0m: No module named 'shap'"
     ]
    }
   ],
   "source": [
    "import shap "
   ]
  },
  {
   "cell_type": "code",
   "execution_count": null,
   "metadata": {},
   "outputs": [],
   "source": []
  }
 ],
 "metadata": {
  "kernelspec": {
   "display_name": "Python 3",
   "language": "python",
   "name": "python3"
  },
  "language_info": {
   "codemirror_mode": {
    "name": "ipython",
    "version": 3
   },
   "file_extension": ".py",
   "mimetype": "text/x-python",
   "name": "python",
   "nbconvert_exporter": "python",
   "pygments_lexer": "ipython3",
   "version": "3.8.5"
  }
 },
 "nbformat": 4,
 "nbformat_minor": 4
}
