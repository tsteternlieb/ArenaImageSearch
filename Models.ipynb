{
 "cells": [
  {
   "cell_type": "code",
   "execution_count": 2,
   "metadata": {},
   "outputs": [],
   "source": [
    "'''\n",
    "Models:\n",
    "\n",
    "U Net for pix2pix type thing\n",
    "Embedding model from scratch and with pretrained\n",
    "Maybe another for multiple input?\n",
    "\n",
    "ChannelEmbed?\n",
    "'''"
   ]
  },
  {
   "cell_type": "code",
   "execution_count": 7,
   "metadata": {},
   "outputs": [],
   "source": [
    "import torch, pandas as pd, numpy as np, math\n",
    "from matplotlib import pyplot as plt\n",
    "from PIL import Image\n",
    "from torch import nn\n",
    "%matplotlib inline \n",
    "\n",
    "\n"
   ]
  },
  {
   "cell_type": "code",
   "execution_count": 20,
   "metadata": {},
   "outputs": [],
   "source": [
    "def imgToArray(path,size = None, norm=True):\n",
    "    print(12)\n",
    "    im = Image.open(path)\n",
    "    ar = np.asarray(im)[:,:,:3]\n",
    "    if size:\n",
    "        im = im.resize((size,size))\n",
    "    if norm:\n",
    "        ar = (ar-127.5)/127.5\n",
    "    return ar\n",
    "\n",
    "def arrayToIm(array,size = None):\n",
    "    array = (array*127.5) + 127.5\n",
    "    plt.imshow(array)\n"
   ]
  },
  {
   "cell_type": "code",
   "execution_count": 22,
   "metadata": {},
   "outputs": [
    {
     "name": "stdout",
     "output_type": "stream",
     "text": [
      "12\n",
      "[[[-0.25490196 -0.11372549 -0.09019608]\n",
      "  [-0.2627451  -0.11372549 -0.09803922]\n",
      "  [-0.2627451  -0.11372549 -0.09803922]\n",
      "  ...\n",
      "  [-0.34117647 -0.41960784 -0.01960784]\n",
      "  [-0.34117647 -0.42745098 -0.01960784]\n",
      "  [-0.34901961 -0.42745098 -0.02745098]]\n",
      "\n",
      " [[-0.24705882 -0.11372549 -0.09019608]\n",
      "  [-0.25490196 -0.11372549 -0.09803922]\n",
      "  [-0.2627451  -0.11372549 -0.09803922]\n",
      "  ...\n",
      "  [-0.34901961 -0.41960784 -0.01960784]\n",
      "  [-0.34901961 -0.42745098 -0.01960784]\n",
      "  [-0.34901961 -0.42745098 -0.02745098]]\n",
      "\n",
      " [[-0.24705882 -0.11372549 -0.09019608]\n",
      "  [-0.24705882 -0.11372549 -0.09019608]\n",
      "  [-0.25490196 -0.11372549 -0.09019608]\n",
      "  ...\n",
      "  [-0.35686275 -0.42745098 -0.02745098]\n",
      "  [-0.35686275 -0.42745098 -0.02745098]\n",
      "  [-0.35686275 -0.42745098 -0.02745098]]\n",
      "\n",
      " ...\n",
      "\n",
      " [[ 0.08235294  0.03529412 -0.03529412]\n",
      "  [ 0.08235294  0.03529412 -0.03529412]\n",
      "  [ 0.08235294  0.03529412 -0.03529412]\n",
      "  ...\n",
      "  [-0.48235294 -0.63921569 -0.7254902 ]\n",
      "  [-0.48235294 -0.63921569 -0.7254902 ]\n",
      "  [-0.48235294 -0.63921569 -0.7254902 ]]\n",
      "\n",
      " [[ 0.08235294  0.03529412 -0.03529412]\n",
      "  [ 0.08235294  0.03529412 -0.03529412]\n",
      "  [ 0.08235294  0.03529412 -0.03529412]\n",
      "  ...\n",
      "  [-0.48235294 -0.63921569 -0.7254902 ]\n",
      "  [-0.48235294 -0.63921569 -0.7254902 ]\n",
      "  [-0.48235294 -0.63921569 -0.7254902 ]]\n",
      "\n",
      " [[ 0.08235294  0.03529412 -0.03529412]\n",
      "  [ 0.08235294  0.03529412 -0.03529412]\n",
      "  [ 0.08235294  0.03529412 -0.03529412]\n",
      "  ...\n",
      "  [-0.48235294 -0.63921569 -0.7254902 ]\n",
      "  [-0.48235294 -0.63921569 -0.7254902 ]\n",
      "  [-0.48235294 -0.63921569 -0.7254902 ]]]\n"
     ]
    }
   ],
   "source": [
    "im = imgToArray('./test_photo.png',256)\n",
    "print(im)\n",
    "# arrayToIm(im)\n"
   ]
  },
  {
   "cell_type": "code",
   "execution_count": null,
   "metadata": {},
   "outputs": [],
   "source": [
    "def init_weights(m):\n",
    "    if isinstance(nn.Conv2d):\n",
    "        torch.nn.init.normal_(m.weight, std=0.02)\n",
    "        "
   ]
  },
  {
   "cell_type": "code",
   "execution_count": 86,
   "metadata": {},
   "outputs": [],
   "source": [
    "class upsample(nn.Module):\n",
    "    '''layer for up sampling. Two inputs which are catted together than blown up'''\n",
    "    def __init__(self,in_channels,out_channels,kernel_size, batch_norm = True):\n",
    "        super(upsample, self).__init__()\n",
    "        self.layers = nn.ModuleList([nn.ConvTranspose2d(in_channels*2,\n",
    "                                               out_channels,\n",
    "                                               kernel_size,\n",
    "                                               stride = 2,\n",
    "                                               padding=1\n",
    "                                               )])\n",
    "        if batch_norm:\n",
    "            self.layers.append(nn.BatchNorm2d(out_channels))\n",
    "        self.layers.append(nn.LeakyReLU())\n",
    "\n",
    "    def forward(self,inputs):\n",
    "        #expects tuple of (normal, skip)\n",
    "        x = torch.concat(inputs,dim = 1)\n",
    "        \n",
    "        \n",
    "        print(x.shape)\n",
    "        for layer in self.layers:\n",
    "            x = layer(x)\n",
    "        \n",
    "        return x\n",
    "    "
   ]
  },
  {
   "cell_type": "code",
   "execution_count": 76,
   "metadata": {},
   "outputs": [
    {
     "data": {
      "text/plain": [
       "torch.Size([10, 5, 128, 128])"
      ]
     },
     "execution_count": 76,
     "metadata": {},
     "output_type": "execute_result"
    }
   ],
   "source": [
    "m = nn.ConvTranspose2d(16,5,4,stride = 2,padding=1)\n",
    "input = torch.rand(10,16,64,64)\n",
    "m(input).shape"
   ]
  },
  {
   "cell_type": "code",
   "execution_count": 88,
   "metadata": {},
   "outputs": [
    {
     "name": "stdout",
     "output_type": "stream",
     "text": [
      "torch.Size([10, 32, 64, 64])\n"
     ]
    },
    {
     "data": {
      "text/plain": [
       "torch.Size([32, 128, 128])"
      ]
     },
     "execution_count": 88,
     "metadata": {},
     "output_type": "execute_result"
    }
   ],
   "source": [
    "down = upsample(16,32,4)\n",
    "input = torch.rand(10,16,64,64)\n",
    "\n",
    "down((input,input))[1].shape"
   ]
  },
  {
   "cell_type": "code",
   "execution_count": 161,
   "metadata": {},
   "outputs": [],
   "source": [
    "class downsample(nn.Module):\n",
    "    '''encoder block for generator'''\n",
    "    def __init__(self,in_channels, out_channels,kernel_size=4, upsample_scheme='nearest', dropout = None):\n",
    "        super(downsample,self).__init__()\n",
    "        self.Layers = nn.ModuleList([nn.Conv2d(in_channels, \n",
    "                                                        out_channels,\n",
    "                                                        kernel_size,\n",
    "                                                        padding = 'same',\n",
    "                                                        stride=1)])\n",
    "\n",
    "        self.Layers.append(nn.BatchNorm2d(out_channels))\n",
    "        if dropout:\n",
    "            self.Layers.append(nn.Dropout2d(dropout))\n",
    "        self.Layers.append(nn.LeakyReLU())\n",
    "        self.downsample = nn.MaxPool2d(2)\n",
    "    def forward(self,inputs):\n",
    "        x = inputs\n",
    "        for layer in self.Layers:\n",
    "            x = layer(x)\n",
    "\n",
    "        x_down = self.downsample(x)\n",
    "        return x_down, x\n",
    "            \n",
    "    "
   ]
  },
  {
   "cell_type": "code",
   "execution_count": 160,
   "metadata": {},
   "outputs": [
    {
     "data": {
      "text/plain": [
       "torch.Size([4, 128, 64, 64])"
      ]
     },
     "execution_count": 160,
     "metadata": {},
     "output_type": "execute_result"
    }
   ],
   "source": [
    "down = downsample(3,128,4)\n",
    "test = torch.rand((4,3,64,64))\n",
    "down(test)[0].shape"
   ]
  },
  {
   "cell_type": "code",
   "execution_count": 206,
   "metadata": {},
   "outputs": [],
   "source": [
    "class U_Gen(nn.Module):\n",
    "    '''U net Generator'''\n",
    "    def __init__(self,input_size, kernel_size = 4, dropout = None):\n",
    "        super(U_Gen,self).__init__()\n",
    "        self.init_embed = nn.Conv2d(3,64,4,padding='same')\n",
    "        self.final_embed = nn.Conv2d(64,3,kernel_size)\n",
    "\n",
    "        \n",
    "        \n",
    "        self.down_sampling = nn.ModuleList([])\n",
    "        self.up_sampling = []\n",
    "        \n",
    "        assert(math.log2(input_size) == int(math.log2(input_size)))\n",
    "        \n",
    "        curr_channel_no = 64\n",
    "        while input_size >= 12:\n",
    "            self.down_sampling.append(downsample(curr_channel_no,\n",
    "                                                 curr_channel_no*2,\n",
    "                                                 kernel_size\n",
    "                                                 ))\n",
    "            self.up_sampling.append(upsample(curr_channel_no*2, \n",
    "                                             curr_channel_no,\n",
    "                                             kernel_size))\n",
    "                            \n",
    "            print(curr_channel_no)\n",
    "            input_size /= 2 \n",
    "            curr_channel_no *= 2 \n",
    "\n",
    "        self.deep_embed = nn.Conv2d(curr_channel_no, \n",
    "                                    curr_channel_no*2,\n",
    "                                    kernel_size,\n",
    "                                    padding = 'same')\n",
    "        list.reverse(self.up_sampling)\n",
    "        self.up_sampling = nn.ModuleList(self.up_sampling)\n",
    "    def forward(self,input):\n",
    "        skips = []\n",
    "        x = self.init_embed(input)\n",
    "\n",
    "        for layer in self.down_sampling:\n",
    "            x, skip = layer(x)\n",
    "            skips.append(skip)\n",
    "\n",
    "        x = (skip)\n",
    "        n = len(skips)\n",
    "        print(x.shape)\n",
    "        # for i,tensor in enumerate(skips):\n",
    "        #     print(tensor.shape, i)\n",
    "        for i,layer in enumerate(self.up_sampling):\n",
    "            skip = skips[n - (i + 1)]\n",
    "            print(x.shape,skip.shape)\n",
    "            x =  layer((x, skip))\n",
    "            print(i,'yippe')\n",
    "\n",
    "        x = self.final_embed(x)\n",
    "        return x \n",
    "\n",
    "        "
   ]
  },
  {
   "cell_type": "code",
   "execution_count": 14,
   "metadata": {},
   "outputs": [
    {
     "name": "stdout",
     "output_type": "stream",
     "text": [
      "12\n"
     ]
    },
    {
     "ename": "TypeError",
     "evalue": "Cannot handle this data type: (1, 1, 3), <f8",
     "output_type": "error",
     "traceback": [
      "\u001b[0;31m---------------------------------------------------------------------------\u001b[0m",
      "\u001b[0;31mKeyError\u001b[0m                                  Traceback (most recent call last)",
      "\u001b[0;32m/opt/anaconda3/envs/arena_req/lib/python3.8/site-packages/PIL/Image.py\u001b[0m in \u001b[0;36mfromarray\u001b[0;34m(obj, mode)\u001b[0m\n\u001b[1;32m   2834\u001b[0m         \u001b[0;32mtry\u001b[0m\u001b[0;34m:\u001b[0m\u001b[0;34m\u001b[0m\u001b[0;34m\u001b[0m\u001b[0m\n\u001b[0;32m-> 2835\u001b[0;31m             \u001b[0mmode\u001b[0m\u001b[0;34m,\u001b[0m \u001b[0mrawmode\u001b[0m \u001b[0;34m=\u001b[0m \u001b[0m_fromarray_typemap\u001b[0m\u001b[0;34m[\u001b[0m\u001b[0mtypekey\u001b[0m\u001b[0;34m]\u001b[0m\u001b[0;34m\u001b[0m\u001b[0;34m\u001b[0m\u001b[0m\n\u001b[0m\u001b[1;32m   2836\u001b[0m         \u001b[0;32mexcept\u001b[0m \u001b[0mKeyError\u001b[0m \u001b[0;32mas\u001b[0m \u001b[0me\u001b[0m\u001b[0;34m:\u001b[0m\u001b[0;34m\u001b[0m\u001b[0;34m\u001b[0m\u001b[0m\n",
      "\u001b[0;31mKeyError\u001b[0m: ((1, 1, 3), '<f8')",
      "\nThe above exception was the direct cause of the following exception:\n",
      "\u001b[0;31mTypeError\u001b[0m                                 Traceback (most recent call last)",
      "\u001b[0;32m/var/folders/0l/7qs63yvs2hz99v3lks8zfwsr0000gn/T/ipykernel_14132/1238023149.py\u001b[0m in \u001b[0;36m<module>\u001b[0;34m\u001b[0m\n\u001b[1;32m      3\u001b[0m \u001b[0mim\u001b[0m \u001b[0;34m=\u001b[0m \u001b[0mImage\u001b[0m\u001b[0;34m.\u001b[0m\u001b[0mopen\u001b[0m\u001b[0;34m(\u001b[0m\u001b[0;34m'./test_photo.png'\u001b[0m\u001b[0;34m)\u001b[0m\u001b[0;34m\u001b[0m\u001b[0;34m\u001b[0m\u001b[0m\n\u001b[1;32m      4\u001b[0m \u001b[0mim_array\u001b[0m \u001b[0;34m=\u001b[0m \u001b[0mimgToArray\u001b[0m\u001b[0;34m(\u001b[0m\u001b[0;34m'./test_photo.png'\u001b[0m\u001b[0;34m,\u001b[0m\u001b[0;36m256\u001b[0m\u001b[0;34m)\u001b[0m\u001b[0;34m\u001b[0m\u001b[0;34m\u001b[0m\u001b[0m\n\u001b[0;32m----> 5\u001b[0;31m \u001b[0marrayToIm\u001b[0m\u001b[0;34m(\u001b[0m\u001b[0mim_array\u001b[0m\u001b[0;34m)\u001b[0m\u001b[0;34m\u001b[0m\u001b[0;34m\u001b[0m\u001b[0m\n\u001b[0m\u001b[1;32m      6\u001b[0m \u001b[0mprint\u001b[0m\u001b[0;34m(\u001b[0m\u001b[0mim_array\u001b[0m\u001b[0;34m)\u001b[0m\u001b[0;34m\u001b[0m\u001b[0;34m\u001b[0m\u001b[0m\n\u001b[1;32m      7\u001b[0m \u001b[0;31m# u_gen = U_Gen(64)\u001b[0m\u001b[0;34m\u001b[0m\u001b[0;34m\u001b[0m\u001b[0;34m\u001b[0m\u001b[0m\n",
      "\u001b[0;32m~/Desktop/Arena/ArenaImageSearch/utils.py\u001b[0m in \u001b[0;36marrayToIm\u001b[0;34m(array, size)\u001b[0m\n\u001b[1;32m     19\u001b[0m \u001b[0;34m\u001b[0m\u001b[0m\n\u001b[1;32m     20\u001b[0m \u001b[0;32mdef\u001b[0m \u001b[0marrayToIm\u001b[0m\u001b[0;34m(\u001b[0m\u001b[0marray\u001b[0m\u001b[0;34m,\u001b[0m\u001b[0msize\u001b[0m \u001b[0;34m=\u001b[0m \u001b[0;32mNone\u001b[0m\u001b[0;34m)\u001b[0m\u001b[0;34m:\u001b[0m\u001b[0;34m\u001b[0m\u001b[0;34m\u001b[0m\u001b[0m\n\u001b[0;32m---> 21\u001b[0;31m     \u001b[0marray\u001b[0m \u001b[0;34m=\u001b[0m \u001b[0;34m(\u001b[0m\u001b[0marray\u001b[0m\u001b[0;34m*\u001b[0m\u001b[0;36m127.5\u001b[0m\u001b[0;34m)\u001b[0m \u001b[0;34m+\u001b[0m \u001b[0;36m127.5\u001b[0m\u001b[0;34m\u001b[0m\u001b[0;34m\u001b[0m\u001b[0m\n\u001b[0m\u001b[1;32m     22\u001b[0m     \u001b[0mim\u001b[0m \u001b[0;34m=\u001b[0m \u001b[0mImage\u001b[0m\u001b[0;34m.\u001b[0m\u001b[0mfromarray\u001b[0m\u001b[0;34m(\u001b[0m\u001b[0marray\u001b[0m\u001b[0;34m)\u001b[0m\u001b[0;34m\u001b[0m\u001b[0;34m\u001b[0m\u001b[0m\n\u001b[1;32m     23\u001b[0m     \u001b[0;32mif\u001b[0m \u001b[0msize\u001b[0m\u001b[0;34m:\u001b[0m\u001b[0;34m\u001b[0m\u001b[0;34m\u001b[0m\u001b[0m\n",
      "\u001b[0;32m/opt/anaconda3/envs/arena_req/lib/python3.8/site-packages/PIL/Image.py\u001b[0m in \u001b[0;36mfromarray\u001b[0;34m(obj, mode)\u001b[0m\n\u001b[1;32m   2835\u001b[0m             \u001b[0mmode\u001b[0m\u001b[0;34m,\u001b[0m \u001b[0mrawmode\u001b[0m \u001b[0;34m=\u001b[0m \u001b[0m_fromarray_typemap\u001b[0m\u001b[0;34m[\u001b[0m\u001b[0mtypekey\u001b[0m\u001b[0;34m]\u001b[0m\u001b[0;34m\u001b[0m\u001b[0;34m\u001b[0m\u001b[0m\n\u001b[1;32m   2836\u001b[0m         \u001b[0;32mexcept\u001b[0m \u001b[0mKeyError\u001b[0m \u001b[0;32mas\u001b[0m \u001b[0me\u001b[0m\u001b[0;34m:\u001b[0m\u001b[0;34m\u001b[0m\u001b[0;34m\u001b[0m\u001b[0m\n\u001b[0;32m-> 2837\u001b[0;31m             \u001b[0;32mraise\u001b[0m \u001b[0mTypeError\u001b[0m\u001b[0;34m(\u001b[0m\u001b[0;34m\"Cannot handle this data type: %s, %s\"\u001b[0m \u001b[0;34m%\u001b[0m \u001b[0mtypekey\u001b[0m\u001b[0;34m)\u001b[0m \u001b[0;32mfrom\u001b[0m \u001b[0me\u001b[0m\u001b[0;34m\u001b[0m\u001b[0;34m\u001b[0m\u001b[0m\n\u001b[0m\u001b[1;32m   2838\u001b[0m     \u001b[0;32melse\u001b[0m\u001b[0;34m:\u001b[0m\u001b[0;34m\u001b[0m\u001b[0;34m\u001b[0m\u001b[0m\n\u001b[1;32m   2839\u001b[0m         \u001b[0mrawmode\u001b[0m \u001b[0;34m=\u001b[0m \u001b[0mmode\u001b[0m\u001b[0;34m\u001b[0m\u001b[0;34m\u001b[0m\u001b[0m\n",
      "\u001b[0;31mTypeError\u001b[0m: Cannot handle this data type: (1, 1, 3), <f8"
     ]
    }
   ],
   "source": [
    "test = torch.rand(4,3,128,128)\n",
    "\n",
    "im = Image.open('./test_photo.png')\n",
    "im_array = imgToArray('./test_photo.png',256)\n",
    "arrayToIm(im_array)\n",
    "print(im_array)\n",
    "# u_gen = U_Gen(64)\n",
    "# print(u_gen(test).shape)\n",
    "# print(len(u_gen.up_sampling))\n",
    "# for i in range(len(u_gen.up_sampling)):\n",
    "#     print(u_gen.down_sampling[i], u_gen.up_sampling[i])"
   ]
  },
  {
   "cell_type": "code",
   "execution_count": 53,
   "metadata": {},
   "outputs": [],
   "source": [
    "# class U_Disc(nn.Module):\n",
    "#     '''U net discriminator'''\n",
    "#     def __init__(self,kernel_size=4, num_downsamples = 3, dropout = None,):\n",
    "#         super(U_Disc, self).__init__()\n",
    "#         self.init_conv = nn.Conv2d(6,64,kernel_size)\n",
    "        \n",
    "#         self.downsample_layers = nn.ModuleList(\n",
    "#                 [Downsample(kernel_size,64*(2**i),64*(2**(i+1)),drop_out=dropout) \n",
    "#                  for i in range(0,num_downsamples)]\n",
    "#                                                 )\n",
    "#         self.conv1 = nn.Conv2d(64*(2**num_downsamples),512,kernel_size)\n",
    "#         self.batch_norm1 = nn.BatchNorm2d(512)\n",
    "#         self.relu1 = nn.ReLU()\n",
    "        \n",
    "#         self.final = nn.Conv2d(512,1, kernel_size)\n",
    "        \n",
    "#     def forward(self,inputs):\n",
    "#         '''\n",
    "#         takes as input a tuple (x,t) \n",
    "#         where x is the input and t is the target\n",
    "#         '''\n",
    "#         input_im, target_im = inputs\n",
    "#         concat = torch.concat([input_im,target_im], dim = 1)\n",
    "#         x = self.init_conv(concat)\n",
    "        \n",
    "#         print(x.shape)\n",
    "#         for layer in self.downsample_layers:\n",
    "#             print(x.shape)\n",
    "#             x = layer(x)\n",
    "#         print(\"?\")\n",
    "#         x = self.conv1(x)\n",
    "#         x = self.batch_norm1(x)\n",
    "#         x = self.relu1(x)\n",
    "        \n",
    "#         x = self.final(x)\n",
    "#         return x\n",
    "        \n",
    "        \n",
    "        \n",
    "        \n",
    "        "
   ]
  },
  {
   "cell_type": "code",
   "execution_count": 54,
   "metadata": {},
   "outputs": [
    {
     "name": "stdout",
     "output_type": "stream",
     "text": [
      "64 128\n",
      "128 256\n",
      "256 512\n"
     ]
    }
   ],
   "source": [
    "for i in range(3):\n",
    "    print(64*(2**i),64*(2**(i+1)))"
   ]
  },
  {
   "cell_type": "code",
   "execution_count": 74,
   "metadata": {},
   "outputs": [],
   "source": []
  },
  {
   "cell_type": "code",
   "execution_count": 76,
   "metadata": {},
   "outputs": [
    {
     "data": {
      "image/png": "[encoded data removed]",
      "text/plain": [
       "<Figure size 432x288 with 1 Axes>"
      ]
     },
     "metadata": {
      "needs_background": "light"
     },
     "output_type": "display_data"
    }
   ],
   "source": [
    "out_im = out[0,0].detach()\n",
    "plt.imshow(out_im, cmap='pink', interpolation='nearest')\n",
    "plt.show()"
   ]
  },
  {
   "cell_type": "code",
   "execution_count": 123,
   "metadata": {},
   "outputs": [
    {
     "data": {
      "text/plain": [
       "(256, 256, 3)"
      ]
     },
     "execution_count": 123,
     "metadata": {},
     "output_type": "execute_result"
    }
   ],
   "source": [
    "from PIL import Image\n",
    "  \n",
    "\n",
    "image = Image.open('tx.jpg')\n",
    "ri = image.resize((256,256))\n",
    "arry = np.asarray(ri)\n",
    "arry.shape"
   ]
  },
  {
   "cell_type": "code",
   "execution_count": 124,
   "metadata": {},
   "outputs": [],
   "source": [
    "arry.shape\n",
    "r_shap = arry.reshape(1,3,256,256)\n",
    "r_shap = torch.Tensor((r_shap - 127.5)/256)"
   ]
  },
  {
   "cell_type": "code",
   "execution_count": 125,
   "metadata": {},
   "outputs": [
    {
     "name": "stdout",
     "output_type": "stream",
     "text": [
      "torch.Size([1, 64, 253, 253])\n",
      "torch.Size([1, 64, 253, 253])\n",
      "torch.Size([1, 128, 125, 125])\n",
      "torch.Size([1, 256, 61, 61])\n",
      "?\n"
     ]
    }
   ],
   "source": [
    "u = U_Disc()\n",
    "inputs = (r_shap,r_shap)\n",
    "out = u(inputs)"
   ]
  },
  {
   "cell_type": "code",
   "execution_count": 126,
   "metadata": {},
   "outputs": [
    {
     "data": {
      "image/png": "[encoded data removed]",
      "text/plain": [
       "<Figure size 432x288 with 1 Axes>"
      ]
     },
     "metadata": {
      "needs_background": "light"
     },
     "output_type": "display_data"
    }
   ],
   "source": [
    "out_im = out[0,0].detach()\n",
    "plt.imshow(out_im, cmap='pink', interpolation='nearest')\n",
    "plt.show()"
   ]
  },
  {
   "cell_type": "code",
   "execution_count": null,
   "metadata": {},
   "outputs": [],
   "source": []
  }
 ],
 "metadata": {
  "kernelspec": {
   "display_name": "Python 3 (ipykernel)",
   "language": "python",
   "name": "python3"
  },
  "language_info": {
   "codemirror_mode": {
    "name": "ipython",
    "version": 3
   },
   "file_extension": ".py",
   "mimetype": "text/x-python",
   "name": "python",
   "nbconvert_exporter": "python",
   "pygments_lexer": "ipython3",
   "version": "3.8.12"
  }
 },
 "nbformat": 4,
 "nbformat_minor": 4
}
