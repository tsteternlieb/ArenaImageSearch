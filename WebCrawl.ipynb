{
 "cells": [
  {
   "cell_type": "code",
   "execution_count": 173,
   "id": "f9566e0e",
   "metadata": {},
   "outputs": [
    {
     "name": "stdout",
     "output_type": "stream",
     "text": [
      "Collecting networkx\n",
      "  Downloading networkx-2.6.3-py3-none-any.whl (1.9 MB)\n",
      "     |████████████████████████████████| 1.9 MB 1.0 MB/s            \n",
      "\u001b[?25hInstalling collected packages: networkx\n",
      "Successfully installed networkx-2.6.3\n"
     ]
    }
   ],
   "source": [
    "!pip install networkx"
   ]
  },
  {
   "cell_type": "code",
   "execution_count": null,
   "id": "ebf019f6",
   "metadata": {},
   "outputs": [],
   "source": [
    "'''\n",
    "Notebook for Are.na crawling\n",
    "'''\n",
    "\n",
    "'''\n",
    "Useful GETs:\n",
    "\n",
    "http://api.are.na/v2/channels/arena-influences/channels\n",
    "\n",
    "\n",
    "\n",
    "'''"
   ]
  },
  {
   "cell_type": "code",
   "execution_count": 1,
   "id": "7e3d9fe0",
   "metadata": {},
   "outputs": [],
   "source": [
    "### IMPORTS ###\n",
    "if __name__ == '__main__':\n",
    "    import requests\n",
    "    import math\n",
    "    import networkx as nx\n",
    "    from queue import Queue"
   ]
  },
  {
   "cell_type": "code",
   "execution_count": 142,
   "id": "c96ddc1d",
   "metadata": {},
   "outputs": [
    {
     "data": {
      "text/plain": [
       "<Response [200]>"
      ]
     },
     "execution_count": 142,
     "metadata": {},
     "output_type": "execute_result"
    }
   ],
   "source": [
    "###this works\n",
    "x = requests.get('https://api.are.na/v2/channels/nynets-_sal8iqlt8y/thumb')\n",
    "x"
   ]
  },
  {
   "cell_type": "code",
   "execution_count": 143,
   "id": "389a7374",
   "metadata": {
    "scrolled": true
   },
   "outputs": [
    {
     "data": {
      "text/plain": [
       "{'id': 2069335,\n",
       " 'title': '1959-Untitled-brush-ink',\n",
       " 'updated_at': '2021-06-21T19:44:12.718Z',\n",
       " 'created_at': '2018-04-20T03:38:12.087Z',\n",
       " 'state': 'available',\n",
       " 'comment_count': 0,\n",
       " 'generated_title': '1959-Untitled-brush-ink',\n",
       " 'content_html': '',\n",
       " 'description_html': '<p>Untitled, 1959 <br>\\nBarnett Newman</p>',\n",
       " 'visibility': 'public',\n",
       " 'content': '',\n",
       " 'description': 'Untitled, 1959 \\nBarnett Newman\\n',\n",
       " 'source': None,\n",
       " 'image': {'filename': '7b341b1a17044ca565fcc6d015bcd341.jpg',\n",
       "  'content_type': 'image/jpeg',\n",
       "  'updated_at': '2018-04-20T03:38:13.000Z',\n",
       "  'thumb': {'url': 'https://images.are.na/eyJidWNrZXQiOiJhcmVuYV9pbWFnZXMiLCJrZXkiOiIyMDY5MzM1L29yaWdpbmFsXzdiMzQxYjFhMTcwNDRjYTU2NWZjYzZkMDE1YmNkMzQxLmpwZyIsImVkaXRzIjp7InJlc2l6ZSI6eyJ3aWR0aCI6NDAwLCJoZWlnaHQiOjQwMCwiZml0IjoiaW5zaWRlIiwid2l0aG91dEVubGFyZ2VtZW50Ijp0cnVlfSwid2VicCI6eyJxdWFsaXR5Ijo5MH0sImpwZWciOnsicXVhbGl0eSI6OTB9LCJyb3RhdGUiOm51bGx9fQ==?bc=1'},\n",
       "  'square': {'url': 'https://images.are.na/eyJidWNrZXQiOiJhcmVuYV9pbWFnZXMiLCJrZXkiOiIyMDY5MzM1L29yaWdpbmFsXzdiMzQxYjFhMTcwNDRjYTU2NWZjYzZkMDE1YmNkMzQxLmpwZyIsImVkaXRzIjp7InJlc2l6ZSI6eyJ3aWR0aCI6NDQwLCJoZWlnaHQiOjQ0MCwiZml0IjoiY292ZXIiLCJ3aXRob3V0RW5sYXJnZW1lbnQiOnRydWV9LCJ3ZWJwIjp7InF1YWxpdHkiOjkwfSwianBlZyI6eyJxdWFsaXR5Ijo5MH0sInJvdGF0ZSI6bnVsbH19?bc=1'},\n",
       "  'display': {'url': 'https://images.are.na/eyJidWNrZXQiOiJhcmVuYV9pbWFnZXMiLCJrZXkiOiIyMDY5MzM1L29yaWdpbmFsXzdiMzQxYjFhMTcwNDRjYTU2NWZjYzZkMDE1YmNkMzQxLmpwZyIsImVkaXRzIjp7InJlc2l6ZSI6eyJ3aWR0aCI6MTIwMCwiaGVpZ2h0IjoxMjAwLCJmaXQiOiJpbnNpZGUiLCJ3aXRob3V0RW5sYXJnZW1lbnQiOnRydWV9LCJ3ZWJwIjp7InF1YWxpdHkiOjkwfSwianBlZyI6eyJxdWFsaXR5Ijo5MH0sInJvdGF0ZSI6bnVsbH19?bc=1'},\n",
       "  'large': {'url': 'https://images.are.na/eyJidWNrZXQiOiJhcmVuYV9pbWFnZXMiLCJrZXkiOiIyMDY5MzM1L29yaWdpbmFsXzdiMzQxYjFhMTcwNDRjYTU2NWZjYzZkMDE1YmNkMzQxLmpwZyIsImVkaXRzIjp7InJlc2l6ZSI6eyJ3aWR0aCI6MTgwMCwiaGVpZ2h0IjoxODAwLCJmaXQiOiJpbnNpZGUiLCJ3aXRob3V0RW5sYXJnZW1lbnQiOnRydWV9LCJ3ZWJwIjp7InF1YWxpdHkiOjkwfSwianBlZyI6eyJxdWFsaXR5Ijo5MH0sInJvdGF0ZSI6bnVsbH19?bc=1'},\n",
       "  'original': {'url': 'https://d2w9rnfcy7mm78.cloudfront.net/2069335/original_7b341b1a17044ca565fcc6d015bcd341.jpg?1524195493?bc=1',\n",
       "   'file_size': 151434,\n",
       "   'file_size_display': '148 KB'}},\n",
       " 'embed': None,\n",
       " 'attachment': None,\n",
       " 'metadata': None,\n",
       " 'base_class': 'Block',\n",
       " 'class': 'Image',\n",
       " 'user': {'id': 59401,\n",
       "  'created_at': '2018-06-20T20:09:26.317Z',\n",
       "  'slug': 'are-na-commons',\n",
       "  'username': 'Are.na Commons',\n",
       "  'first_name': 'Are.na',\n",
       "  'last_name': 'Commons',\n",
       "  'full_name': 'Are.na Commons',\n",
       "  'avatar': 'https://arena-avatars.s3.amazonaws.com/59401/small_16def72d7335af5ecfb6fcace60cc6eb.png?1530043859',\n",
       "  'avatar_image': {'thumb': 'https://arena-avatars.s3.amazonaws.com/59401/small_16def72d7335af5ecfb6fcace60cc6eb.png?1530043859',\n",
       "   'display': 'https://arena-avatars.s3.amazonaws.com/59401/medium_16def72d7335af5ecfb6fcace60cc6eb.png?1530043859'},\n",
       "  'channel_count': 125,\n",
       "  'following_count': 0,\n",
       "  'profile_id': 208322,\n",
       "  'follower_count': 617,\n",
       "  'initials': 'AC',\n",
       "  'can_index': True,\n",
       "  'metadata': {'description': None},\n",
       "  'is_premium': False,\n",
       "  'is_lifetime_premium': False,\n",
       "  'is_supporter': False,\n",
       "  'is_exceeding_connections_limit': False,\n",
       "  'is_confirmed': True,\n",
       "  'is_pending_reconfirmation': False,\n",
       "  'is_pending_confirmation': False,\n",
       "  'badge': None,\n",
       "  'base_class': 'User',\n",
       "  'class': 'User'},\n",
       " 'position': 6,\n",
       " 'selected': False,\n",
       " 'connection_id': 19060511,\n",
       " 'connected_at': '2021-04-08T03:36:16.351Z',\n",
       " 'connected_by_user_id': 242817,\n",
       " 'connected_by_username': 'Theo Sternlieb',\n",
       " 'connected_by_user_slug': 'theo-sternlieb'}"
      ]
     },
     "execution_count": 143,
     "metadata": {},
     "output_type": "execute_result"
    }
   ],
   "source": [
    "x.json()['contents'][5]"
   ]
  },
  {
   "cell_type": "code",
   "execution_count": 145,
   "id": "fbcff9fb",
   "metadata": {},
   "outputs": [
    {
     "data": {
      "text/plain": [
       "<Response [200]>"
      ]
     },
     "execution_count": 145,
     "metadata": {},
     "output_type": "execute_result"
    }
   ],
   "source": [
    "collab_r = requests.get('http://api.are.na/v2/channels/nynets-_sal8iqlt8y/connections')\n",
    "collab_r"
   ]
  },
  {
   "cell_type": "code",
   "execution_count": 162,
   "id": "8a9b0034",
   "metadata": {},
   "outputs": [
    {
     "data": {
      "text/plain": [
       "'random_2'"
      ]
     },
     "execution_count": 162,
     "metadata": {},
     "output_type": "execute_result"
    }
   ],
   "source": [
    "(collab_r.json()['channels'])[0]['slug']"
   ]
  },
  {
   "cell_type": "code",
   "execution_count": 151,
   "id": "08c70337",
   "metadata": {},
   "outputs": [
    {
     "data": {
      "text/plain": [
       "<Response [200]>"
      ]
     },
     "execution_count": 151,
     "metadata": {},
     "output_type": "execute_result"
    }
   ],
   "source": [
    "test_linkage = requests.get('https://api.are.na/v2/channels/radical-technologies-and-art')\n",
    "test_linkage"
   ]
  },
  {
   "cell_type": "code",
   "execution_count": 2,
   "id": "6a8b5fd7",
   "metadata": {},
   "outputs": [
    {
     "data": {
      "text/plain": [
       "['random_2', 'radical-technologies-and-art']"
      ]
     },
     "execution_count": 2,
     "metadata": {},
     "output_type": "execute_result"
    }
   ],
   "source": [
    "def getConnectedChannels(slug):\n",
    "    #getConnectedChannels(slug) = [c1,c2,...]\n",
    "    #slug: channel slug str\n",
    "    #[c1,c2,...] where c1,c2,... is linked to the current channel\n",
    "    \n",
    "    GET = f'http://api.are.na/v2/channels/{slug}/connections'\n",
    "    try:\n",
    "        collab_json_list = requests.get(GET).json()['channels']\n",
    "    except:\n",
    "        return []\n",
    "    slugs = [json['slug'] for json in collab_json_list]\n",
    "    \n",
    "    return slugs\n",
    "\n",
    "getConnectedChannels('nynets-_sal8iqlt8y')"
   ]
  },
  {
   "cell_type": "code",
   "execution_count": 3,
   "id": "4d249a29",
   "metadata": {},
   "outputs": [],
   "source": [
    "def generateChannelNetwork(startSlug,depth):\n",
    "    '''\n",
    "    bfs for network generation \n",
    "    generateChannelNetwork(startSlug,depth) = network : networkx \n",
    "    where nodes represent channels and edges exist if one channels appear in another \n",
    "    '''\n",
    "    q = Queue()\n",
    "    seen = set([startSlug])\n",
    "    q.put(startSlug)\n",
    "    G = nx.Graph()\n",
    "    \n",
    "    while depth > 0:\n",
    "        for i in range(q.qsize()):\n",
    "            curr_slug = q.get_nowait()\n",
    "            print(curr_slug)\n",
    "            slugs = getConnectedChannels(curr_slug)\n",
    "            for slug in slugs:\n",
    "                if slug not in seen:\n",
    "                    seen.add(slug)\n",
    "                    q.put(slug)\n",
    "                        \n",
    "                    G.add_edge(curr_slug,slug)\n",
    "                    \n",
    "                \n",
    "        depth -= 1\n",
    "        \n",
    "    return G"
   ]
  },
  {
   "cell_type": "code",
   "execution_count": null,
   "id": "43d6e423",
   "metadata": {
    "scrolled": true
   },
   "outputs": [
    {
     "name": "stdout",
     "output_type": "stream",
     "text": [
      "nynets-_sal8iqlt8y\n",
      "random_2\n",
      "radical-technologies-and-art\n",
      "research-l25g9er4i-m\n",
      "knowledge_archive\n",
      "reads-fdr9qkol6do\n",
      "be_online\n",
      "ok-computer\n",
      "html-css-js\n",
      "hyper-zkykreilrus\n",
      "thieve-s-trove\n",
      "thesis-h4a0qg_8gsi\n",
      "web-resources-pjqxzphljxq\n",
      "assortment-of-channels-of-channel-assortments\n",
      "grew-up-online\n",
      "abolition-is\n",
      "to-educate-myself-on-benxc_uwjwe\n",
      "read-zvjf5hpwj6q\n",
      "sometimes-i-just-be-thinking\n",
      "lookback\n",
      "the-bits-that-make-up-a-design-philosophy\n",
      "books-v2defximxss\n",
      "information-experience\n",
      "readings-mq3wjbluz1g\n",
      "buffer-wgugbpnarxy\n",
      "idk-2iqldor9bhs\n",
      "kennis-txt\n",
      "another-recap\n",
      "open-library-drnuknbrmys\n",
      "to-read-bfolaiys5us\n",
      "something-to-do-workbook\n",
      "library-osc5o9xoctm\n",
      "digital-ist-besser\n",
      "online-world\n",
      "random-nzjfqe0bxw4\n",
      "what-s-to-come\n",
      "creative_process-p21r4vg4z90\n",
      "product-brand-knowledge\n",
      "post-human-digital\n",
      "out-of-office-e8qo0_sivk8\n",
      "post-redes-sociales-ozteisrldd4\n",
      "self-on-in-with-internet\n",
      "gcd-idea\n",
      "terminally-online\n",
      "digital-communities-dkljprymczu\n",
      "identity-formation-in-the-digital-age\n",
      "web-tools-gkefzoqrvxs\n",
      "web-fp7au25baj0\n",
      "coding-e8nhgcunnbw\n",
      "archive-web-evtmglkr8eg\n",
      "designdesign-2ykrjx-dary\n",
      "oh-yeah-baby-oh-yeah\n",
      "lo97gec3rmo\n",
      "invited-digital-space\n",
      "learning-how-to-learn-rdff0vofblu\n",
      "syntex\n",
      "design-stuff-xer_333ywv0\n",
      "december-2021-zp7xkfpifr8\n",
      "treasures\n",
      "learn-earn\n",
      "fashun-inspo\n",
      "mind-7x6cucomplg\n",
      "resources-l3ghcvsa2fi\n",
      "reference-vhvnm1fn4ea\n",
      "reading-central\n",
      "expansive-scramble\n",
      "investigate-later\n",
      "spells-h6d3uiwiq0g\n",
      "lesen-rhqh-s7vkfa\n",
      "watch-read-think\n",
      "knowledge-porridge\n",
      "personal-pursuits-lvuxuqwejmw\n",
      "everything-is-design\n",
      "bag4\n",
      "if-everything-burns\n",
      "allergic-2-shrimp\n",
      "critique-internet-tech-design-thinking\n",
      "smile-ufknb0t\n",
      "inspiration-uh-cthhx85m\n",
      "some-fave-channels\n",
      "cool-ass-channels\n",
      "infinity-crate\n",
      "oracle-the-gentle-seer\n",
      "liminal-lime\n",
      "gems-cwwvq5j9wai\n",
      "read-1495920596\n",
      "metadesign\n",
      "life-moodboard\n",
      "miscellany-channels-to-revisit\n",
      "designschool-pdf\n",
      "to-read-l6a85hnbyze\n",
      "neu-knowledge\n",
      "frames-for-everyday-life-and-living\n",
      "_to-sort\n",
      "teaching-related\n",
      "design-process-3yfp4dnzljk\n",
      "spatial-practice\n",
      "designing-for-humanity\n",
      "a-thought\n",
      "design-insights\n",
      "education-resources\n",
      "i-library-gardens\n",
      "acumulacion-canales\n",
      "random-bmouvtacqm4\n",
      "very-strict-very-rigid-capricorn-season\n",
      "ways-of-seeing-yhqifyn5ype\n",
      "chicago-public-library-ry2nnv2dkw8\n",
      "to-read-uht5d9rfgb4\n",
      "teaching-myself-_qbfwrsgzi8\n",
      "the-library-tyzj6youzi4\n",
      "to-read-gngo20rvhyg\n",
      "inbox-rhoxtjwzbg8\n",
      "channels-6z0ywvkm8vk\n",
      "memory-matter\n",
      "in-search-of-research\n",
      "intermedios\n",
      "books-to-read-gwr8tc2gyre\n",
      "i-tr9bqex4vnq\n",
      "reading-f2cqzs1ict0\n",
      "platforms-collections\n",
      "unfiled-readings\n",
      "library-vyloqwzcgbq\n",
      "library-ktkyaeq5ise\n",
      "0-3-dictionnaire-non-raisonne\n",
      "ongoing-library\n",
      "utopia-studies\n",
      "libraries-wh-nntnanme\n",
      "reference-7tqp7lhwbgc\n",
      "art-observatory\n",
      "archives-online\n",
      "public-library-no-library-card-necessary\n",
      "another-library\n",
      "content-management\n",
      "emotional-internet\n",
      "visual-bgf7_rdkmru\n",
      "gd2-graphic-design-2\n",
      "dpdp\n",
      "audio-graphic\n",
      "web-related-kmgh_ttz0fa\n",
      "knowledge-resource\n",
      "decentralised-internet-hactivism\n",
      "inbox-2v9hpmuru5e\n",
      "dev-q7owchqzxlm\n",
      "no-bliss-text-wip\n",
      "random-1524276921\n",
      "dump-iowu6zjw1-w\n",
      "futurarchy\n",
      "featured-channels-c1f30sunbl4\n",
      "here-we-go-uv94qqdp1me\n",
      "make-working-work\n",
      "soc-media-fw0uuynqvrm\n",
      "opinions-thoughts-writings\n",
      "to-revisit-q51wz5iw4em\n",
      "re-source\n",
      "quote-sbmppba9ou\n",
      "design-culture\n",
      "how-to-do-my-job\n",
      "text-weoyq-ai8vo\n",
      "resources-cpj0xx0dag0\n",
      "future-lu3opzel8tg\n",
      "guck-tqhcioz5m54\n",
      "aestheticism-zbw_gea-djc\n",
      "archives-flesh\n",
      "andiamo-ae9wgutwxc4\n",
      "ideias-loucas-insanas\n",
      "labour-work\n",
      "fine-futurism\n",
      "to-read-p6zzqpyphkc\n",
      "udmkfpcl5pe\n",
      "online-social-networking-criticism\n",
      "human-vs-internet\n",
      "how-do-you-use-the-internet-mindfully\n",
      "every-single-are-na-channel-related-to-having-a-healthy-and-non-obsessive-relationship-to-technology\n",
      "internet-culture-xnbj_s0sw_w\n",
      "using-a-computer-is-painful\n",
      "field-guide-to-the-digital-real\n",
      "what-s-up-internet\n",
      "internet-dazed\n",
      "thinking-thoughts-feeling-feelings-su8f2uekf6s\n",
      "pics-and-thoughts\n",
      "etheric-protocols\n",
      "poetics-of-the-void\n",
      "humanism-rcy20f7rnpi\n",
      "learn-unlearn\n",
      "web-ye3j38yylja\n",
      "web-3-khkwflc6ysw\n",
      "4later\n",
      "digital-space-kb60cbaho_c\n",
      "being-seen-hjql_as961u\n",
      "1-web\n",
      "resources-digital-toolbox\n",
      "tools-uda9kwa1ayu\n",
      "future-b6awufrfm0y\n",
      "patterns-88dfxsaoeuk\n",
      "designarchy\n",
      "tickling\n",
      "inspo-hncod-5hj0k\n",
      "resources-gvubrcdihg8\n",
      "to-read-gfdebyxnt0i\n",
      "everything-is-quantifiable-these-days\n",
      "is-this-it\n",
      "visual-irony\n",
      "mindsphere-ivvwwnsmgzs\n",
      "elsewhere-epryhqdpsma\n",
      "lets-get-kritikal-kritikal-on-design\n",
      "learning-text\n",
      "5vf-w4rxnwa\n",
      "towards-betterment\n",
      "channel-names-that-radiate\n",
      "ref-4hbugjfxx7y\n",
      "library-35a9xkayfru\n",
      "the-self-pi3al6ihxqc\n",
      "words-1531106858\n",
      "abundance-fountain\n",
      "text-thoughts-words\n",
      "texture-cxx7deto5sc\n",
      "coolhighlights\n",
      "thoughts-8lcwxnv2bzy\n",
      "listening-amp-responding\n",
      "right-click-2voxrsmug4u\n",
      "soft-reminders\n",
      "type9mt7ntbvrv5v57cv75e\n",
      "shaman-ism\n",
      "thinking-feeling\n",
      "way-of-life\n",
      "writing-h-xjvcbyo7q\n",
      "professorship\n",
      "high-life-z9a5emmfplq\n",
      "here-now\n",
      "community-1525019709\n",
      "fun-ones\n",
      "thoughts-djvgb6b9sfe\n",
      "my-body-my-ghouls\n",
      "sccrrroll\n",
      "superchannels-e9sui0rbdcm\n",
      "reference-q-rwie1pzhu\n",
      "channels-i-follow\n",
      "stff-tiocrnwcuma\n",
      "life-things-jrynsvve9zu\n",
      "read-pwnwuus0mhw\n",
      "2-meta-pdf\n",
      "3-chnnls\n",
      "research-library\n",
      "collection-graphic\n",
      "data-gdfjc5qvi0e\n",
      "cyberfeminism-net-techno-ciritic\n",
      "mtsphr\n",
      "misc-etc\n",
      "riso-xer-cih-oja\n",
      "storytelling-hf50mav-j0y\n",
      "desain-grafis\n",
      "e-images\n",
      "all-jkn4bc51rrm\n",
      "i-just-want-to-scroll\n",
      "feed-cunwhcbhroq\n",
      "_schmood\n",
      "aesthetics-rpjr1gigbtc\n",
      "other-channels-no-specific-focus\n",
      "re-source-be31v7m4a1e\n",
      "grafik-1jea7l2hyoo\n",
      "worlds-gne_6ywzx9o\n",
      "images-rynzmz3excg\n",
      "gd-channels\n",
      "random-p84tjprqkem\n",
      "introductory-are-na-channel-mixtape\n",
      "de-sign-sosfku5ycfc\n",
      "design-channels-rqxbkeaweae\n",
      "reads-8nx-ddf8mq8\n",
      "computational-cosmogony-inbox\n",
      "clippings-q3orukwcui8\n",
      "for-my-layout-robot\n",
      "readlater\n",
      "whole-systems-thinking-unsorted\n",
      "inter-action-face\n",
      "0-design-and-beyond\n",
      "metagaming-metadesign\n",
      "making-tools-dokwv0xildm\n",
      "edu-reading-nvfk0ex6rne\n",
      "systems-theory-zklorthgixw\n",
      "textos-para-ler\n",
      "ich-bin-es\n",
      "systems-thinking-cw3uwrmlsvy\n",
      "compass-for-living\n",
      "method-zhcyqtis4l4\n",
      "internet-1-0\n",
      "vvibes\n",
      "things-thoughts-to-embrace\n",
      "mindset-ftpcqpxh44g\n",
      "stuff-gzzrgiegffg\n",
      "read-1485357389\n",
      "subservients-process\n",
      "publishing-in-times-of-alternative-art-and-design-education\n",
      "content-queue\n",
      "edu-1510156149\n",
      "a-library\n",
      "research-pedagogy\n",
      "2018-design-is-for-everyone\n",
      "further-learning\n",
      "education-mega-channel\n",
      "art-aesthetics-curation-archival\n",
      "to-read-pjd2xzxnaoa\n",
      "open-bookmarks\n",
      "blogs-lhl0k6w0xey\n",
      "place-tqx4hqwayai\n",
      "education-fxzyfml9zmw\n",
      "ad1-advanced-design-1\n",
      "wjerk\n",
      "bookmarks-yayreu90p0g\n",
      "1-design-orrduiiizjm\n",
      "design-resources-eta1fbgnoua\n",
      "the-sustainabilitist\n",
      "graphic-design-and-sustainability\n",
      "on-design-zkih9wegewq\n",
      "on-design-uwmqkmdflqa\n",
      "product-design-c7btlhhfeiy\n",
      "design-vwf_jvbp9s4\n",
      "design-x7qki__hbty\n",
      "networks-of-expression-ownership-conflict\n",
      "relearning-design\n",
      "design-experiences-not-products\n",
      "technology-ecology\n",
      "geek-ed\n",
      "unschooling\n",
      "effective-pedagogy\n",
      "hopscotch--2\n",
      "syllabi-alt-ed\n",
      "unfolding-systems\n",
      "bookshelf-1491862909\n",
      "fsa-research\n",
      "life-remote-control\n",
      "education-1509812768\n",
      "education-1505791136\n",
      "0-queue\n",
      "discovering-my-thinking\n",
      "essays-online-reading\n",
      "learn-gizw1wwyp_u\n",
      "flower-children\n",
      "edu-neoskool\n",
      "teech-mi\n",
      "cant-remember-but-don-t-wanna-forget\n",
      "library-1480817593\n",
      "corner-office\n",
      "library-reading\n",
      "libraries-1524458751\n",
      "library-dreams\n",
      "education-xs8q1bq6p54\n",
      "shadow-library\n",
      "o1-stuff\n",
      "the-jungle-of-forking-paths\n",
      "learning-dpfs1mviwdi\n",
      "read-s063ktiwvgi\n",
      "thoughts-p6u32xhb6na\n",
      "infinite-jest\n",
      "sources-wnfal8oargo\n",
      "library-03fumcwexve\n",
      "altered-states\n",
      "referenz3000\n",
      "krypt\n",
      "land-gnqyviyb2dk\n",
      "shirts-17dh9dc2pby\n",
      "gd-gtwk4z7akik\n",
      "read-1520540754\n",
      "dox-iiqeqkhaqk4\n",
      "art-stream\n",
      "juxtapositions-h9o047ynfyc\n",
      "shift-the-focus\n",
      "cultivating-meaningful-engagement\n",
      "perspective-dhbbioo12rg\n",
      "soul-diggin\n",
      "da-leggere-tsrxarlzy-o\n",
      "library-em-squared\n",
      "scule\n",
      "pb6ipcs2-bk\n",
      "all-good-lcowz0umyd4\n",
      "pdf-b-thgi5wmo0\n",
      "read-learn-know-things\n",
      "read-lzaj-ti2fma\n",
      "feed-1530707975\n",
      "uncurated-curated-01\n",
      "art-x-hgylkcv0\n",
      "channel-of-channels-2v6mr0bpppe\n",
      "grains-n-grops\n",
      "fotos-utgynprwwr4\n",
      "general-reading-etc\n",
      "words-gukyhv3b3wq\n",
      "readings-i-think-would-interest-me\n",
      "walls-of-text\n",
      "ever-growing-reading-list\n",
      "biblio-2r40umcx4no\n",
      "library-ec580p_tzru\n",
      "library-agq14inelqg\n",
      "pdf-universe\n",
      "tent-peaks-of-interest\n",
      "archives--5\n",
      "archives-directories\n",
      "www-archives\n",
      "archive-b9vzadnzaba\n",
      "data-and-the-archive\n",
      "alt-archive-of-interest\n",
      "balikbayan-box\n",
      "thesis-0\n",
      "tuesday-evening\n",
      "read-mq0d73zxuxg\n",
      "data-uueryw2mz40\n",
      "my-best-channels-to-date\n",
      "read-me-gmk0bnyouos\n",
      "the-year-in-the-internet-2020-bphbtn1l5qi\n",
      "open-library-jvg6xumfjac\n",
      "systems-library\n",
      "browsing-pkflbqjjqmo\n",
      "together-today\n",
      "1-design-i5qdo-yn70c\n"
     ]
    },
    {
     "name": "stdout",
     "output_type": "stream",
     "text": [
      "web-1515060776\n",
      "website-builder\n",
      "how-does-this-get-did\n",
      "todo-k1xyby7mzuw\n",
      "photo-web-ref\n",
      "web-awdsuenuzz4\n",
      "making-www-school-onm_5o-9oqy\n",
      "tools-uncategorized\n"
     ]
    }
   ],
   "source": [
    "G = generateChannelNetwork('nynets-_sal8iqlt8y',8)"
   ]
  },
  {
   "cell_type": "code",
   "execution_count": 6,
   "id": "2a207abb",
   "metadata": {},
   "outputs": [
    {
     "data": {
      "image/png": "[encoded data removed]",
      "text/plain": [
       "<Figure size 432x288 with 1 Axes>"
      ]
     },
     "metadata": {},
     "output_type": "display_data"
    }
   ],
   "source": [
    "nx.draw(G)"
   ]
  },
  {
   "cell_type": "code",
   "execution_count": 7,
   "id": "9742598a",
   "metadata": {},
   "outputs": [],
   "source": [
    "l = nx.drawing.layout.spring_layout(G, k=4/math.sqrt(G.order()))"
   ]
  },
  {
   "cell_type": "code",
   "execution_count": 8,
   "id": "726d5827",
   "metadata": {},
   "outputs": [
    {
     "data": {
      "image/png": "[encoded data removed]",
      "text/plain": [
       "<Figure size 432x288 with 1 Axes>"
      ]
     },
     "metadata": {},
     "output_type": "display_data"
    }
   ],
   "source": [
    "nx.drawing.nx_pylab.draw(G,l)"
   ]
  },
  {
   "cell_type": "code",
   "execution_count": 12,
   "id": "3124c61c",
   "metadata": {},
   "outputs": [],
   "source": [
    "from matplotlib import pylab\n",
    "import matplotlib.pyplot as plt\n",
    "import networkx as nx\n",
    "\n",
    "def save_graph(graph,file_name):\n",
    "#initialze Figure\n",
    "    plt.figure(num=None, figsize=(20, 20), dpi=80)\n",
    "    plt.axis('off')\n",
    "    fig = plt.figure(1)\n",
    "    pos = nx.spring_layout(graph)\n",
    "    nx.draw_networkx_nodes(graph,pos)\n",
    "    nx.draw_networkx_edges(graph,pos)\n",
    "    nx.draw_networkx_labels(graph,pos)\n",
    "\n",
    "    cut = 1.00\n",
    "    xmax = cut * max(xx for xx, yy in pos.values())\n",
    "    ymax = cut * max(yy for xx, yy in pos.values())\n",
    "    plt.xlim(-2*xmax, 2*xmax)\n",
    "    plt.ylim(-2*ymax, 2*ymax)\n",
    "\n",
    "    plt.savefig(file_name,bbox_inches=\"tight\")\n",
    "    pylab.close()\n",
    "    del fig\n",
    "\n",
    "#Assuming that the graph g has nodes and edges entered\n",
    "save_graph(G,\"my_graph.pdf\")\n"
   ]
  },
  {
   "cell_type": "code",
   "execution_count": 13,
   "id": "c95b8494",
   "metadata": {},
   "outputs": [
    {
     "ename": "NetworkXNoCycle",
     "evalue": "No cycle found.",
     "output_type": "error",
     "traceback": [
      "\u001b[0;31m---------------------------------------------------------------------------\u001b[0m",
      "\u001b[0;31mNetworkXNoCycle\u001b[0m                           Traceback (most recent call last)",
      "\u001b[0;32m/var/folders/0l/7qs63yvs2hz99v3lks8zfwsr0000gn/T/ipykernel_3966/2758398543.py\u001b[0m in \u001b[0;36m<module>\u001b[0;34m\u001b[0m\n\u001b[0;32m----> 1\u001b[0;31m \u001b[0mnx\u001b[0m\u001b[0;34m.\u001b[0m\u001b[0malgorithms\u001b[0m\u001b[0;34m.\u001b[0m\u001b[0mcycles\u001b[0m\u001b[0;34m.\u001b[0m\u001b[0mfind_cycle\u001b[0m\u001b[0;34m(\u001b[0m\u001b[0mG\u001b[0m\u001b[0;34m)\u001b[0m\u001b[0;34m\u001b[0m\u001b[0;34m\u001b[0m\u001b[0m\n\u001b[0m",
      "\u001b[0;32m/opt/anaconda3/envs/gumbo/lib/python3.8/site-packages/networkx/algorithms/cycles.py\u001b[0m in \u001b[0;36mfind_cycle\u001b[0;34m(G, source, orientation)\u001b[0m\n\u001b[1;32m    483\u001b[0m     \u001b[0;32melse\u001b[0m\u001b[0;34m:\u001b[0m\u001b[0;34m\u001b[0m\u001b[0;34m\u001b[0m\u001b[0m\n\u001b[1;32m    484\u001b[0m         \u001b[0;32massert\u001b[0m \u001b[0mlen\u001b[0m\u001b[0;34m(\u001b[0m\u001b[0mcycle\u001b[0m\u001b[0;34m)\u001b[0m \u001b[0;34m==\u001b[0m \u001b[0;36m0\u001b[0m\u001b[0;34m\u001b[0m\u001b[0;34m\u001b[0m\u001b[0m\n\u001b[0;32m--> 485\u001b[0;31m         \u001b[0;32mraise\u001b[0m \u001b[0mnx\u001b[0m\u001b[0;34m.\u001b[0m\u001b[0mexception\u001b[0m\u001b[0;34m.\u001b[0m\u001b[0mNetworkXNoCycle\u001b[0m\u001b[0;34m(\u001b[0m\u001b[0;34m\"No cycle found.\"\u001b[0m\u001b[0;34m)\u001b[0m\u001b[0;34m\u001b[0m\u001b[0;34m\u001b[0m\u001b[0m\n\u001b[0m\u001b[1;32m    486\u001b[0m \u001b[0;34m\u001b[0m\u001b[0m\n\u001b[1;32m    487\u001b[0m     \u001b[0;31m# We now have a list of edges which ends on a cycle.\u001b[0m\u001b[0;34m\u001b[0m\u001b[0;34m\u001b[0m\u001b[0;34m\u001b[0m\u001b[0m\n",
      "\u001b[0;31mNetworkXNoCycle\u001b[0m: No cycle found."
     ]
    }
   ],
   "source": [
    "nx.algorithms.cycles.find_cycle(G)"
   ]
  },
  {
   "cell_type": "code",
   "execution_count": 243,
   "id": "edfc0ef7",
   "metadata": {},
   "outputs": [
    {
     "ename": "AttributeError",
     "evalue": "module 'os' has no attribute 'cwd'",
     "output_type": "error",
     "traceback": [
      "\u001b[0;31m---------------------------------------------------------------------------\u001b[0m",
      "\u001b[0;31mAttributeError\u001b[0m                            Traceback (most recent call last)",
      "\u001b[0;32m/var/folders/0l/7qs63yvs2hz99v3lks8zfwsr0000gn/T/ipykernel_2167/2309091960.py\u001b[0m in \u001b[0;36m<module>\u001b[0;34m\u001b[0m\n\u001b[1;32m      1\u001b[0m \u001b[0;32mimport\u001b[0m \u001b[0mos\u001b[0m\u001b[0;34m\u001b[0m\u001b[0;34m\u001b[0m\u001b[0m\n\u001b[0;32m----> 2\u001b[0;31m \u001b[0mos\u001b[0m\u001b[0;34m.\u001b[0m\u001b[0mcwd\u001b[0m\u001b[0;34m(\u001b[0m\u001b[0;34m)\u001b[0m\u001b[0;34m\u001b[0m\u001b[0;34m\u001b[0m\u001b[0m\n\u001b[0m",
      "\u001b[0;31mAttributeError\u001b[0m: module 'os' has no attribute 'cwd'"
     ]
    }
   ],
   "source": [
    "import os\n",
    "os.cwd()"
   ]
  },
  {
   "cell_type": "code",
   "execution_count": 207,
   "id": "d4f08634",
   "metadata": {},
   "outputs": [],
   "source": [
    "G = nx.Graph()\n",
    "G.add_node(\"a\")\n",
    "G.add_node(\"b\")"
   ]
  },
  {
   "cell_type": "code",
   "execution_count": 208,
   "id": "67dfa42c",
   "metadata": {},
   "outputs": [
    {
     "ename": "NetworkXError",
     "evalue": "Edge tuple ['a'] must be a 2-tuple or 3-tuple.",
     "output_type": "error",
     "traceback": [
      "\u001b[0;31m---------------------------------------------------------------------------\u001b[0m",
      "\u001b[0;31mNetworkXError\u001b[0m                             Traceback (most recent call last)",
      "\u001b[0;32m/var/folders/0l/7qs63yvs2hz99v3lks8zfwsr0000gn/T/ipykernel_2167/197827214.py\u001b[0m in \u001b[0;36m<module>\u001b[0;34m\u001b[0m\n\u001b[0;32m----> 1\u001b[0;31m \u001b[0mG\u001b[0m\u001b[0;34m.\u001b[0m\u001b[0madd_edges_from\u001b[0m\u001b[0;34m(\u001b[0m\u001b[0;34m(\u001b[0m\u001b[0;34m[\u001b[0m\u001b[0;34m\"a\"\u001b[0m\u001b[0;34m]\u001b[0m\u001b[0;34m,\u001b[0m\u001b[0;34m[\u001b[0m\u001b[0;34m\"b\"\u001b[0m\u001b[0;34m]\u001b[0m\u001b[0;34m)\u001b[0m\u001b[0;34m)\u001b[0m\u001b[0;34m\u001b[0m\u001b[0;34m\u001b[0m\u001b[0m\n\u001b[0m",
      "\u001b[0;32m/opt/anaconda3/envs/gumbo/lib/python3.8/site-packages/networkx/classes/graph.py\u001b[0m in \u001b[0;36madd_edges_from\u001b[0;34m(self, ebunch_to_add, **attr)\u001b[0m\n\u001b[1;32m    939\u001b[0m                 \u001b[0mdd\u001b[0m \u001b[0;34m=\u001b[0m \u001b[0;34m{\u001b[0m\u001b[0;34m}\u001b[0m  \u001b[0;31m# doesn't need edge_attr_dict_factory\u001b[0m\u001b[0;34m\u001b[0m\u001b[0;34m\u001b[0m\u001b[0m\n\u001b[1;32m    940\u001b[0m             \u001b[0;32melse\u001b[0m\u001b[0;34m:\u001b[0m\u001b[0;34m\u001b[0m\u001b[0;34m\u001b[0m\u001b[0m\n\u001b[0;32m--> 941\u001b[0;31m                 \u001b[0;32mraise\u001b[0m \u001b[0mNetworkXError\u001b[0m\u001b[0;34m(\u001b[0m\u001b[0;34mf\"Edge tuple {e} must be a 2-tuple or 3-tuple.\"\u001b[0m\u001b[0;34m)\u001b[0m\u001b[0;34m\u001b[0m\u001b[0;34m\u001b[0m\u001b[0m\n\u001b[0m\u001b[1;32m    942\u001b[0m             \u001b[0;32mif\u001b[0m \u001b[0mu\u001b[0m \u001b[0;32mnot\u001b[0m \u001b[0;32min\u001b[0m \u001b[0mself\u001b[0m\u001b[0;34m.\u001b[0m\u001b[0m_node\u001b[0m\u001b[0;34m:\u001b[0m\u001b[0;34m\u001b[0m\u001b[0;34m\u001b[0m\u001b[0m\n\u001b[1;32m    943\u001b[0m                 \u001b[0;32mif\u001b[0m \u001b[0mu\u001b[0m \u001b[0;32mis\u001b[0m \u001b[0;32mNone\u001b[0m\u001b[0;34m:\u001b[0m\u001b[0;34m\u001b[0m\u001b[0;34m\u001b[0m\u001b[0m\n",
      "\u001b[0;31mNetworkXError\u001b[0m: Edge tuple ['a'] must be a 2-tuple or 3-tuple."
     ]
    }
   ],
   "source": [
    "G.add_edges_from(([\"a\"],[\"b\"]))"
   ]
  },
  {
   "cell_type": "code",
   "execution_count": 206,
   "id": "86733575",
   "metadata": {},
   "outputs": [
    {
     "data": {
      "image/png": "[encoded data removed]",
      "text/plain": [
       "<Figure size 432x288 with 1 Axes>"
      ]
     },
     "metadata": {},
     "output_type": "display_data"
    }
   ],
   "source": [
    "nx.draw_networkx(G)"
   ]
  },
  {
   "cell_type": "code",
   "execution_count": null,
   "id": "09c065ff",
   "metadata": {},
   "outputs": [],
   "source": [
    "nx.dr"
   ]
  }
 ],
 "metadata": {
  "kernelspec": {
   "display_name": "Python 3 (ipykernel)",
   "language": "python",
   "name": "python3"
  },
  "language_info": {
   "codemirror_mode": {
    "name": "ipython",
    "version": 3
   },
   "file_extension": ".py",
   "mimetype": "text/x-python",
   "name": "python",
   "nbconvert_exporter": "python",
   "pygments_lexer": "ipython3",
   "version": "3.8.12"
  }
 },
 "nbformat": 4,
 "nbformat_minor": 5
}
