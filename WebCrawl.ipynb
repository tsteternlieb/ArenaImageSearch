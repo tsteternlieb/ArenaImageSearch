{
 "cells": [
  {
   "cell_type": "code",
   "execution_count": 1,
   "id": "ebf019f6",
   "metadata": {},
   "outputs": [
    {
     "data": {
      "text/plain": [
       "'\\nUseful GETs:\\n\\nhttp://api.are.na/v2/channels/arena-influences/channels\\n\\n\\n\\n'"
      ]
     },
     "execution_count": 1,
     "metadata": {},
     "output_type": "execute_result"
    }
   ],
   "source": [
    "'''\n",
    "Notebook for Are.na crawling\n",
    "'''\n",
    "\n",
    "'''\n",
    "Useful GETs:\n",
    "\n",
    "http://api.are.na/v2/channels/arena-influences/channels\n",
    "\n",
    "\n",
    "\n",
    "'''"
   ]
  },
  {
   "cell_type": "code",
   "execution_count": 1,
   "id": "7e3d9fe0",
   "metadata": {},
   "outputs": [],
   "source": [
    "### IMPORTS ###\n",
    "if __name__ == '__main__':\n",
    "    import requests\n",
    "    import math\n",
    "    import networkx as nx\n",
    "    from threading import Thread\n",
    "    from queue import Queue"
   ]
  },
  {
   "cell_type": "code",
   "execution_count": 2,
   "id": "64122eea",
   "metadata": {},
   "outputs": [],
   "source": [
    "def multi_generateChannelNetwork(startSlug, num_threads):\n",
    "    def get_connected_channels_from_queue(queue,r):\n",
    "        while True:\n",
    "            slug = queue.get()\n",
    "            slugs = getConnectedChannels(slug)\n",
    "            l.append(slugs)\n",
    "            for slug in slugs:\n",
    "                r.put(slug)\n",
    "                queue.put(slug)\n",
    "            queue.task_done()\n",
    "            \n",
    "            \n",
    "    res = Queue()\n",
    "    q = Queue()\n",
    "    q.put(startSlug)\n",
    "    l = []\n",
    "    for i in range(num_threads):\n",
    "        print(\"hello\")\n",
    "        worker = Thread(target=get_connected_channels_from_queue, args=(q,res))\n",
    "        worker.setDaemon(True)\n",
    "        worker.start()\n",
    "        q.join()\n",
    "        \n",
    "    return l\n",
    "\n",
    "\n"
   ]
  },
  {
   "cell_type": "code",
   "execution_count": null,
   "id": "c96ddc1d",
   "metadata": {},
   "outputs": [],
   "source": [
    "###this works\n",
    "x = requests.get('https://api.are.na/v2/channels/nynets-_sal8iqlt8y/thumb')\n",
    "x"
   ]
  },
  {
   "cell_type": "code",
   "execution_count": null,
   "id": "389a7374",
   "metadata": {
    "scrolled": true
   },
   "outputs": [],
   "source": [
    "x.json()['contents'][5]"
   ]
  },
  {
   "cell_type": "code",
   "execution_count": null,
   "id": "fbcff9fb",
   "metadata": {},
   "outputs": [],
   "source": [
    "collab_r = requests.get('http://api.are.na/v2/channels/nynets-_sal8iqlt8y/connections')\n",
    "collab_r"
   ]
  },
  {
   "cell_type": "code",
   "execution_count": null,
   "id": "8a9b0034",
   "metadata": {},
   "outputs": [],
   "source": [
    "(collab_r.json()['channels'])[0]['slug']"
   ]
  },
  {
   "cell_type": "code",
   "execution_count": null,
   "id": "08c70337",
   "metadata": {},
   "outputs": [],
   "source": [
    "test_linkage = requests.get('https://api.are.na/v2/channels/transfixions')\n",
    "test_linkage"
   ]
  },
  {
   "cell_type": "code",
   "execution_count": null,
   "id": "9ddaaf21",
   "metadata": {},
   "outputs": [],
   "source": [
    "test_linkage.json()"
   ]
  },
  {
   "cell_type": "code",
   "execution_count": null,
   "id": "bf7b0faa",
   "metadata": {},
   "outputs": [],
   "source": [
    "multi_generateChannelNetwork('nynets-_sal8iqlt8y',100)"
   ]
  },
  {
   "cell_type": "code",
   "execution_count": 4,
   "id": "6a8b5fd7",
   "metadata": {},
   "outputs": [
    {
     "data": {
      "text/plain": [
       "['random_2', 'radical-technologies-and-art']"
      ]
     },
     "execution_count": 4,
     "metadata": {},
     "output_type": "execute_result"
    }
   ],
   "source": [
    "def getConnectedChannels(slug):\n",
    "    #getConnectedChannels(slug) = [c1,c2,...]\n",
    "    #slug: channel slug str\n",
    "    #[c1,c2,...] where c1,c2,... is linked to the current channel\n",
    "    \n",
    "    GET = f'http://api.are.na/v2/channels/{slug}/connections'\n",
    "    try:\n",
    "        collab_json_list = requests.get(GET).json()['channels']\n",
    "    except:\n",
    "        return []\n",
    "    slugs = [json['slug'] for json in collab_json_list]\n",
    "    \n",
    "    return slugs\n",
    "\n",
    "getConnectedChannels('nynets-_sal8iqlt8y')"
   ]
  },
  {
   "cell_type": "code",
   "execution_count": 5,
   "id": "4d249a29",
   "metadata": {},
   "outputs": [],
   "source": [
    "def generateChannelNetwork(startSlug,depth):\n",
    "    '''\n",
    "    bfs for network generation \n",
    "    generateChannelNetwork(startSlug,depth) = network : networkx \n",
    "    where nodes represent channels and edges exist if one channels appear in another \n",
    "    '''\n",
    "    q = Queue()\n",
    "    seen = set([startSlug])\n",
    "    q.put(startSlug)\n",
    "    G = nx.Graph()\n",
    "    \n",
    "    while depth > 0:\n",
    "        for i in range(q.qsize()):\n",
    "            curr_slug = q.get_nowait()\n",
    "            print(curr_slug)\n",
    "            slugs = getConnectedChannels(curr_slug)\n",
    "            for slug in slugs:\n",
    "                if slug not in seen:\n",
    "                    seen.add(slug)\n",
    "                    q.put(slug)\n",
    "                        \n",
    "                    G.add_edge(curr_slug,slug)\n",
    "                    \n",
    "                \n",
    "        depth -= 1\n",
    "        \n",
    "    return G"
   ]
  },
  {
   "cell_type": "code",
   "execution_count": 45,
   "id": "7a26f088",
   "metadata": {},
   "outputs": [],
   "source": [
    "def multi_generateChannelNetwork(startSlugs, num_threads):\n",
    "    def get_connected_channels_from_queue(queue,r):\n",
    "        while True:\n",
    "            slug = queue.get()\n",
    "            slugs = getConnectedChannels(slug)            \n",
    "            for slug in slugs:\n",
    "                r.put(slug)\n",
    "            queue.task_done()\n",
    "\n",
    "    res = Queue()\n",
    "    q = Queue()\n",
    "    for slug in startSlugs:\n",
    "        q.put(slug)\n",
    "    \n",
    "    for i in range(num_threads):\n",
    "        worker = Thread(target=get_connected_channels_from_queue, args=(q,res))\n",
    "        worker.setDaemon(True)\n",
    "        worker.start()\n",
    "        \n",
    "    q.join()\n",
    "    return list(res.queue)\n",
    "\n",
    "\n",
    "\n"
   ]
  },
  {
   "cell_type": "code",
   "execution_count": null,
   "id": "7882548a",
   "metadata": {},
   "outputs": [],
   "source": [
    "def "
   ]
  },
  {
   "cell_type": "code",
   "execution_count": 47,
   "id": "2a207abb",
   "metadata": {},
   "outputs": [
    {
     "name": "stdout",
     "output_type": "stream",
     "text": [
      "hello\n",
      "nynets-_sal8iqlt8y slug\n",
      "hello\n",
      "random_2hello slug\n",
      "\n",
      "radical-technologies-and-art slug\n",
      "hello\n",
      "research-l25g9er4i-m hello\n",
      "slug\n",
      "knowledge_archivehello\n",
      " reads-fdr9qkol6do slug\n",
      "hello\n",
      "be_onlinehello\n",
      "slug \n",
      "slugok-computer\n",
      "hello\n",
      " slug\n",
      "html-css-js slug\n",
      "hello\n",
      "['random_2', 'radical-technologies-and-art', 'web-tools-gkefzoqrvxs', 'ok-computer', 'web-fp7au25baj0', 'coding-e8nhgcunnbw', 'radical-technologies-and-art', 'archive-web-evtmglkr8eg', 'web-resources-pjqxzphljxq', 'designdesign-2ykrjx-dary', 'oh-yeah-baby-oh-yeah', 'lo97gec3rmo', 'research-l25g9er4i-m', 'knowledge_archive', 'reads-fdr9qkol6do', 'be_online', 'ok-computer', 'html-css-js', 'hyper-zkykreilrus', 'thieve-s-trove', 'thesis-h4a0qg_8gsi', 'web-resources-pjqxzphljxq', 'assortment-of-channels-of-channel-assortments', 'grew-up-online', 'abolition-is', 'to-educate-myself-on-benxc_uwjwe', 'read-zvjf5hpwj6q', 'sometimes-i-just-be-thinking', 'lookback', 'the-bits-that-make-up-a-design-philosophy', 'books-v2defximxss', 'information-experience', 'readings-mq3wjbluz1g', 'buffer-wgugbpnarxy', 'idk-2iqldor9bhs', 'kennis-txt', 'another-recap', 'open-library-drnuknbrmys', 'to-read-bfolaiys5us', 'something-to-do-workbook', 'library-osc5o9xoctm', 'digital-ist-besser', 'online-world', 'knowledge_archive', 'random-nzjfqe0bxw4', 'what-s-to-come', 'creative_process-p21r4vg4z90', 'product-brand-knowledge', 'post-human-digital', 'out-of-office-e8qo0_sivk8', 'post-redes-sociales-ozteisrldd4', 'self-on-in-with-internet', 'gcd-idea', 'terminally-online', 'digital-communities-dkljprymczu', 'identity-formation-in-the-digital-age']\n"
     ]
    }
   ],
   "source": [
    "l = ['nynets-_sal8iqlt8y',\n",
    "'random_2',\n",
    "'radical-technologies-and-art',\n",
    "'research-l25g9er4i-m',\n",
    "'knowledge_archive',\n",
    "'reads-fdr9qkol6do',\n",
    "'be_online',\n",
    "'ok-computer',\n",
    "'html-css-js']\n",
    "\n",
    "r = multi_generateChannelNetwork(l,10)\n",
    "\n",
    "print(r)"
   ]
  },
  {
   "cell_type": "code",
   "execution_count": 37,
   "id": "9742598a",
   "metadata": {},
   "outputs": [
    {
     "data": {
      "text/plain": [
       "56"
      ]
     },
     "execution_count": 37,
     "metadata": {},
     "output_type": "execute_result"
    }
   ],
   "source": [
    "r.qsize()"
   ]
  },
  {
   "cell_type": "code",
   "execution_count": null,
   "id": "726d5827",
   "metadata": {},
   "outputs": [],
   "source": [
    "nx.drawing.nx_pylab.draw(G,l)"
   ]
  },
  {
   "cell_type": "code",
   "execution_count": null,
   "id": "3124c61c",
   "metadata": {},
   "outputs": [],
   "source": [
    "from matplotlib import pylab\n",
    "import matplotlib.pyplot as plt\n",
    "import networkx as nx\n",
    "\n",
    "def save_graph(graph,file_name):\n",
    "#initialze Figure\n",
    "    plt.figure(num=None, figsize=(20, 20), dpi=80)\n",
    "    plt.axis('off')\n",
    "    fig = plt.figure(1)\n",
    "    pos = nx.spring_layout(graph)\n",
    "    nx.draw_networkx_nodes(graph,pos)\n",
    "    nx.draw_networkx_edges(graph,pos)\n",
    "    nx.draw_networkx_labels(graph,pos)\n",
    "\n",
    "    cut = 1.00\n",
    "    xmax = cut * max(xx for xx, yy in pos.values())\n",
    "    ymax = cut * max(yy for xx, yy in pos.values())\n",
    "    plt.xlim(-2*xmax, 2*xmax)\n",
    "    plt.ylim(-2*ymax, 2*ymax)\n",
    "\n",
    "    plt.savefig(file_name,bbox_inches=\"tight\")\n",
    "    pylab.close()\n",
    "    del fig\n",
    "\n",
    "    "
   ]
  },
  {
   "cell_type": "code",
   "execution_count": null,
   "id": "de3730fb",
   "metadata": {},
   "outputs": [],
   "source": [
    "multi_generateChannelNetwork('nynets-_sal8iqlt8y',1)"
   ]
  },
  {
   "cell_type": "code",
   "execution_count": null,
   "id": "a46e4865",
   "metadata": {},
   "outputs": [],
   "source": [
    "nx.algorithms.cycles.find_cycle(G)"
   ]
  },
  {
   "cell_type": "code",
   "execution_count": null,
   "id": "edfc0ef7",
   "metadata": {},
   "outputs": [],
   "source": [
    "import os\n",
    "os.cwd()"
   ]
  },
  {
   "cell_type": "code",
   "execution_count": null,
   "id": "d4f08634",
   "metadata": {},
   "outputs": [],
   "source": [
    "G = nx.Graph()\n",
    "G.add_node(\"a\")\n",
    "G.add_node(\"b\")"
   ]
  },
  {
   "cell_type": "code",
   "execution_count": null,
   "id": "67dfa42c",
   "metadata": {},
   "outputs": [],
   "source": [
    "G.add_edges_from(([\"a\"],[\"b\"]))"
   ]
  },
  {
   "cell_type": "code",
   "execution_count": null,
   "id": "86733575",
   "metadata": {},
   "outputs": [],
   "source": [
    "nx.draw_networkx(G)"
   ]
  },
  {
   "cell_type": "code",
   "execution_count": null,
   "id": "09c065ff",
   "metadata": {},
   "outputs": [],
   "source": [
    "nx.dr"
   ]
  }
 ],
 "metadata": {
  "kernelspec": {
   "display_name": "Python 3",
   "language": "python",
   "name": "python3"
  },
  "language_info": {
   "codemirror_mode": {
    "name": "ipython",
    "version": 3
   },
   "file_extension": ".py",
   "mimetype": "text/x-python",
   "name": "python",
   "nbconvert_exporter": "python",
   "pygments_lexer": "ipython3",
   "version": "3.7.10"
  }
 },
 "nbformat": 4,
 "nbformat_minor": 5
}
